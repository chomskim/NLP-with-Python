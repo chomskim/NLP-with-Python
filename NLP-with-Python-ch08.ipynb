{
 "cells": [
  {
   "cell_type": "markdown",
   "metadata": {},
   "source": [
    "# 8. Analyzing Sentence Structure"
   ]
  },
  {
   "cell_type": "markdown",
   "metadata": {},
   "source": [
    "## 8.1 Some Grammatical Dilemmas"
   ]
  },
  {
   "cell_type": "code",
   "execution_count": 1,
   "metadata": {
    "collapsed": true
   },
   "outputs": [],
   "source": [
    "import nltk\n",
    "import re"
   ]
  },
  {
   "cell_type": "code",
   "execution_count": 2,
   "metadata": {
    "collapsed": true
   },
   "outputs": [],
   "source": [
    "groucho_grammar = nltk.CFG.fromstring(\"\"\"\n",
    "S -> NP VP\n",
    "PP -> P NP\n",
    "NP -> Det N | Det N PP | 'I'\n",
    "VP -> V NP | VP PP\n",
    "Det -> 'an' | 'my'\n",
    "N -> 'elephant' | 'pajamas'\n",
    "V -> 'shot'\n",
    "P -> 'in'\n",
    "\"\"\")"
   ]
  },
  {
   "cell_type": "code",
   "execution_count": 3,
   "metadata": {
    "collapsed": false
   },
   "outputs": [
    {
     "name": "stdout",
     "output_type": "stream",
     "text": [
      "(S\n",
      "  (NP I)\n",
      "  (VP\n",
      "    (VP (V shot) (NP (Det an) (N elephant)))\n",
      "    (PP (P in) (NP (Det my) (N pajamas)))))\n",
      "(S\n",
      "  (NP I)\n",
      "  (VP\n",
      "    (V shot)\n",
      "    (NP (Det an) (N elephant) (PP (P in) (NP (Det my) (N pajamas))))))\n"
     ]
    }
   ],
   "source": [
    "sent = ['I', 'shot', 'an', 'elephant', 'in', 'my', 'pajamas']\n",
    "parser = nltk.ChartParser(groucho_grammar)\n",
    "for tree in parser.parse(sent):\n",
    "    print(tree)"
   ]
  },
  {
   "cell_type": "markdown",
   "metadata": {},
   "source": [
    "## 8.2 What's the Use of Syntax?"
   ]
  },
  {
   "cell_type": "markdown",
   "metadata": {},
   "source": [
    "## 8.3 Context Free Grammar"
   ]
  },
  {
   "cell_type": "code",
   "execution_count": 4,
   "metadata": {
    "collapsed": true
   },
   "outputs": [],
   "source": [
    "grammar1 = nltk.CFG.fromstring(\"\"\"\n",
    "  S -> NP VP\n",
    "  VP -> V NP | V NP PP\n",
    "  PP -> P NP\n",
    "  V -> \"saw\" | \"ate\" | \"walked\"\n",
    "  NP -> \"John\" | \"Mary\" | \"Bob\" | Det N | Det N PP\n",
    "  Det -> \"a\" | \"an\" | \"the\" | \"my\"\n",
    "  N -> \"man\" | \"dog\" | \"cat\" | \"telescope\" | \"park\"\n",
    "  P -> \"in\" | \"on\" | \"by\" | \"with\"\n",
    "  \"\"\")"
   ]
  },
  {
   "cell_type": "code",
   "execution_count": 5,
   "metadata": {
    "collapsed": false
   },
   "outputs": [
    {
     "name": "stdout",
     "output_type": "stream",
     "text": [
      "(S (NP Mary) (VP (V saw) (NP Bob)))\n"
     ]
    }
   ],
   "source": [
    "sent = \"Mary saw Bob\".split()\n",
    "rd_parser = nltk.RecursiveDescentParser(grammar1)\n",
    "for tree in rd_parser.parse(sent):\n",
    "    print(tree)"
   ]
  },
  {
   "cell_type": "code",
   "execution_count": 7,
   "metadata": {
    "collapsed": false
   },
   "outputs": [
    {
     "name": "stdout",
     "output_type": "stream",
     "text": [
      "(S (NP Mary) (VP (V saw) (NP Bob)))\n"
     ]
    }
   ],
   "source": [
    "grammar1 = nltk.data.load('file:mygrammar.cfg')\n",
    "sent = \"Mary saw Bob\".split()\n",
    "rd_parser = nltk.RecursiveDescentParser(grammar1)\n",
    "for tree in rd_parser.parse(sent):\n",
    "    print(tree)"
   ]
  },
  {
   "cell_type": "code",
   "execution_count": 8,
   "metadata": {
    "collapsed": true
   },
   "outputs": [],
   "source": [
    "grammar2 = nltk.CFG.fromstring(\"\"\"\n",
    "  S  -> NP VP\n",
    "  NP -> Det Nom | PropN\n",
    "  Nom -> Adj Nom | N\n",
    "  VP -> V Adj | V NP | V S | V NP PP\n",
    "  PP -> P NP\n",
    "  PropN -> 'Buster' | 'Chatterer' | 'Joe'\n",
    "  Det -> 'the' | 'a'\n",
    "  N -> 'bear' | 'squirrel' | 'tree' | 'fish' | 'log'\n",
    "  Adj  -> 'angry' | 'frightened' |  'little' | 'tall'\n",
    "  V ->  'chased'  | 'saw' | 'said' | 'thought' | 'was' | 'put'\n",
    "  P -> 'on'\n",
    "  \"\"\")"
   ]
  },
  {
   "cell_type": "markdown",
   "metadata": {},
   "source": [
    "## 8.4 Parsing With Context Free Grammar"
   ]
  },
  {
   "cell_type": "code",
   "execution_count": 9,
   "metadata": {
    "collapsed": false
   },
   "outputs": [
    {
     "name": "stdout",
     "output_type": "stream",
     "text": [
      "(S (NP Mary) (VP (V saw) (NP (Det a) (N dog))))\n"
     ]
    }
   ],
   "source": [
    "rd_parser = nltk.RecursiveDescentParser(grammar1)\n",
    "sent = 'Mary saw a dog'.split()\n",
    "for tree in rd_parser.parse(sent):\n",
    "    print(tree)"
   ]
  },
  {
   "cell_type": "code",
   "execution_count": 10,
   "metadata": {
    "collapsed": false
   },
   "outputs": [
    {
     "name": "stdout",
     "output_type": "stream",
     "text": [
      "(S (NP Mary) (VP (V saw) (NP (Det a) (N dog))))\n"
     ]
    }
   ],
   "source": [
    "sr_parser = nltk.ShiftReduceParser(grammar1)\n",
    "sent = 'Mary saw a dog'.split()\n",
    "for tree in sr_parser.parse(sent):\n",
    "    print(tree)"
   ]
  },
  {
   "cell_type": "code",
   "execution_count": 11,
   "metadata": {
    "collapsed": false
   },
   "outputs": [
    {
     "data": {
      "text/plain": [
       "[V -> 'shot']"
      ]
     },
     "execution_count": 11,
     "metadata": {},
     "output_type": "execute_result"
    }
   ],
   "source": [
    "text = ['I', 'shot', 'an', 'elephant', 'in', 'my', 'pajamas']\n",
    "groucho_grammar.productions(rhs=text[1])"
   ]
  },
  {
   "cell_type": "code",
   "execution_count": 12,
   "metadata": {
    "collapsed": true
   },
   "outputs": [],
   "source": [
    "def init_wfst(tokens, grammar):\n",
    "    numtokens = len(tokens)\n",
    "    wfst = [[None for i in range(numtokens+1)] for j in range(numtokens+1)]\n",
    "    for i in range(numtokens):\n",
    "        productions = grammar.productions(rhs=tokens[i])\n",
    "        wfst[i][i+1] = productions[0].lhs()\n",
    "    return wfst\n",
    "\n",
    "def complete_wfst(wfst, tokens, grammar, trace=False):\n",
    "    index = dict((p.rhs(), p.lhs()) for p in grammar.productions())\n",
    "    numtokens = len(tokens)\n",
    "    for span in range(2, numtokens+1):\n",
    "        for start in range(numtokens+1-span):\n",
    "            end = start + span\n",
    "            for mid in range(start+1, end):\n",
    "                nt1, nt2 = wfst[start][mid], wfst[mid][end]\n",
    "                if nt1 and nt2 and (nt1,nt2) in index:\n",
    "                    wfst[start][end] = index[(nt1,nt2)]\n",
    "                    if trace:\n",
    "                        print(\"[%s] %3s [%s] %3s [%s] ==> [%s] %3s [%s]\" % \\\n",
    "                        (start, nt1, mid, nt2, end, start, index[(nt1,nt2)], end))\n",
    "    return wfst\n",
    "\n",
    "def display(wfst, tokens):\n",
    "    print('\\nWFST ' + ' '.join((\"%-4d\" % i) for i in range(1, len(wfst))))\n",
    "    for i in range(len(wfst)-1):\n",
    "        print(\"%d   \" % i, end=\" \")\n",
    "        for j in range(1, len(wfst)):\n",
    "            print(\"%-4s\" % (wfst[i][j] or '.'), end=\" \")\n",
    "        print()"
   ]
  },
  {
   "cell_type": "code",
   "execution_count": 13,
   "metadata": {
    "collapsed": false
   },
   "outputs": [
    {
     "name": "stdout",
     "output_type": "stream",
     "text": [
      "\n",
      "WFST 1    2    3    4    5    6    7   \n",
      "0    NP   .    .    .    .    .    .    \n",
      "1    .    V    .    .    .    .    .    \n",
      "2    .    .    Det  .    .    .    .    \n",
      "3    .    .    .    N    .    .    .    \n",
      "4    .    .    .    .    P    .    .    \n",
      "5    .    .    .    .    .    Det  .    \n",
      "6    .    .    .    .    .    .    N    \n"
     ]
    }
   ],
   "source": [
    "tokens = \"I shot an elephant in my pajamas\".split()\n",
    "wfst0 = init_wfst(tokens, groucho_grammar)\n",
    "display(wfst0, tokens)"
   ]
  },
  {
   "cell_type": "code",
   "execution_count": 14,
   "metadata": {
    "collapsed": false
   },
   "outputs": [
    {
     "name": "stdout",
     "output_type": "stream",
     "text": [
      "\n",
      "WFST 1    2    3    4    5    6    7   \n",
      "0    NP   .    .    S    .    .    S    \n",
      "1    .    V    .    VP   .    .    VP   \n",
      "2    .    .    Det  NP   .    .    .    \n",
      "3    .    .    .    N    .    .    .    \n",
      "4    .    .    .    .    P    .    PP   \n",
      "5    .    .    .    .    .    Det  NP   \n",
      "6    .    .    .    .    .    .    N    \n"
     ]
    }
   ],
   "source": [
    "wfst1 = complete_wfst(wfst0, tokens, groucho_grammar)\n",
    "display(wfst1, tokens)"
   ]
  },
  {
   "cell_type": "code",
   "execution_count": 15,
   "metadata": {
    "collapsed": false
   },
   "outputs": [
    {
     "name": "stdout",
     "output_type": "stream",
     "text": [
      "[2] Det [3]   N [4] ==> [2]  NP [4]\n",
      "[5] Det [6]   N [7] ==> [5]  NP [7]\n",
      "[1]   V [2]  NP [4] ==> [1]  VP [4]\n",
      "[4]   P [5]  NP [7] ==> [4]  PP [7]\n",
      "[0]  NP [1]  VP [4] ==> [0]   S [4]\n",
      "[1]  VP [4]  PP [7] ==> [1]  VP [7]\n",
      "[0]  NP [1]  VP [7] ==> [0]   S [7]\n"
     ]
    }
   ],
   "source": [
    "wfst1 = complete_wfst(wfst0, tokens, groucho_grammar, trace=True)"
   ]
  },
  {
   "cell_type": "markdown",
   "metadata": {},
   "source": [
    "## 8.5 Dependencies and Dependency Grammar"
   ]
  },
  {
   "cell_type": "code",
   "execution_count": 16,
   "metadata": {
    "collapsed": true
   },
   "outputs": [],
   "source": [
    "groucho_dep_grammar = nltk.DependencyGrammar.fromstring(\"\"\"\n",
    "'shot' -> 'I' | 'elephant' | 'in'\n",
    "'elephant' -> 'an' | 'in'\n",
    "'in' -> 'pajamas'\n",
    "'pajamas' -> 'my'\n",
    "\"\"\")"
   ]
  },
  {
   "cell_type": "code",
   "execution_count": 17,
   "metadata": {
    "collapsed": false
   },
   "outputs": [
    {
     "name": "stdout",
     "output_type": "stream",
     "text": [
      "Dependency grammar with 7 productions\n",
      "  'shot' -> 'I'\n",
      "  'shot' -> 'elephant'\n",
      "  'shot' -> 'in'\n",
      "  'elephant' -> 'an'\n",
      "  'elephant' -> 'in'\n",
      "  'in' -> 'pajamas'\n",
      "  'pajamas' -> 'my'\n"
     ]
    }
   ],
   "source": [
    "print(groucho_dep_grammar)"
   ]
  },
  {
   "cell_type": "code",
   "execution_count": 18,
   "metadata": {
    "collapsed": false
   },
   "outputs": [
    {
     "name": "stdout",
     "output_type": "stream",
     "text": [
      "(shot I (elephant an (in (pajamas my))))\n",
      "(shot I (elephant an) (in (pajamas my)))\n"
     ]
    }
   ],
   "source": [
    "pdp = nltk.ProjectiveDependencyParser(groucho_dep_grammar)\n",
    "sent = 'I shot an elephant in my pajamas'.split()\n",
    "trees = pdp.parse(sent)\n",
    "for tree in trees:\n",
    "    print(tree)"
   ]
  },
  {
   "cell_type": "markdown",
   "metadata": {},
   "source": [
    "## 8.6 Grammar Development"
   ]
  },
  {
   "cell_type": "code",
   "execution_count": 19,
   "metadata": {
    "collapsed": true
   },
   "outputs": [],
   "source": [
    "from nltk.corpus import treebank"
   ]
  },
  {
   "cell_type": "code",
   "execution_count": 20,
   "metadata": {
    "collapsed": false
   },
   "outputs": [
    {
     "name": "stdout",
     "output_type": "stream",
     "text": [
      "(S\n",
      "  (NP-SBJ\n",
      "    (NP (NNP Pierre) (NNP Vinken))\n",
      "    (, ,)\n",
      "    (ADJP (NP (CD 61) (NNS years)) (JJ old))\n",
      "    (, ,))\n",
      "  (VP\n",
      "    (MD will)\n",
      "    (VP\n",
      "      (VB join)\n",
      "      (NP (DT the) (NN board))\n",
      "      (PP-CLR (IN as) (NP (DT a) (JJ nonexecutive) (NN director)))\n",
      "      (NP-TMP (NNP Nov.) (CD 29))))\n",
      "  (. .))\n"
     ]
    }
   ],
   "source": [
    "t = treebank.parsed_sents('wsj_0001.mrg')[0]\n",
    "print(t)"
   ]
  },
  {
   "cell_type": "code",
   "execution_count": 21,
   "metadata": {
    "collapsed": true
   },
   "outputs": [],
   "source": [
    "def filter(tree):\n",
    "    child_nodes = [child.label() for child in tree\n",
    "                   if isinstance(child, nltk.Tree)]\n",
    "    return  (tree.label() == 'VP') and ('S' in child_nodes)"
   ]
  },
  {
   "cell_type": "code",
   "execution_count": 22,
   "metadata": {
    "collapsed": false
   },
   "outputs": [
    {
     "data": {
      "text/plain": [
       "[Tree('VP', [Tree('VBN', ['named']), Tree('S', [Tree('NP-SBJ', [Tree('-NONE-', ['*-1'])]), Tree('NP-PRD', [Tree('NP', [Tree('DT', ['a']), Tree('JJ', ['nonexecutive']), Tree('NN', ['director'])]), Tree('PP', [Tree('IN', ['of']), Tree('NP', [Tree('DT', ['this']), Tree('JJ', ['British']), Tree('JJ', ['industrial']), Tree('NN', ['conglomerate'])])])])])]),\n",
       " Tree('VP', [Tree('VBD', ['said']), Tree(',', [',']), Tree('``', ['``']), Tree('S', [Tree('NP-SBJ', [Tree('DT', ['This'])]), Tree('VP', [Tree('VBZ', ['is']), Tree('NP-PRD', [Tree('DT', ['an']), Tree('JJ', ['old']), Tree('NN', ['story'])])])])]),\n",
       " Tree('VP', [Tree('VBD', ['said']), Tree('S', [Tree('-NONE-', ['*T*-1'])])]),\n",
       " Tree('VP', [Tree('VBN', ['expected']), Tree('S', [Tree('-NONE-', ['*?*'])])]),\n",
       " Tree('VP', [Tree('VBD', ['said']), Tree('S', [Tree('-NONE-', ['*T*-1'])])]),\n",
       " Tree('VP', [Tree('VBZ', ['appears']), Tree('S', [Tree('NP-SBJ', [Tree('-NONE-', ['*-1'])]), Tree('VP', [Tree('TO', ['to']), Tree('VP', [Tree('VB', ['be']), Tree('NP-PRD', [Tree('NP', [Tree('DT', ['the']), Tree('JJS', ['highest'])]), Tree('PP', [Tree('IN', ['for']), Tree('NP', [Tree('NP', [Tree('DT', ['any']), Tree('NN', ['asbestos']), Tree('NNS', ['workers'])]), Tree('RRC', [Tree('VP', [Tree('VBN', ['studied']), Tree('NP', [Tree('-NONE-', ['*'])]), Tree('PP-LOC', [Tree('IN', ['in']), Tree('NP', [Tree('JJ', ['Western']), Tree('VBN', ['industrialized']), Tree('NNS', ['countries'])])])])])])])])])])])]),\n",
       " Tree('VP', [Tree('VBD', ['said']), Tree('S', [Tree('-NONE-', ['*T*-1'])])]),\n",
       " Tree('VP', [Tree('VBP', ['have']), Tree('S', [Tree('NP-SBJ', [Tree('-NONE-', ['*-1'])]), Tree('VP', [Tree('TO', ['to']), Tree('VP', [Tree('VB', ['recognize']), Tree('SBAR', [Tree('IN', ['that']), Tree('S', [Tree('NP-SBJ', [Tree('DT', ['these']), Tree('NNS', ['events'])]), Tree('VP', [Tree('VBD', ['took']), Tree('NP', [Tree('NN', ['place'])]), Tree('ADVP-TMP', [Tree('NP', [Tree('CD', ['35']), Tree('NNS', ['years'])]), Tree('IN', ['ago'])])])])])])])])]),\n",
       " Tree('VP', [Tree('VBD', ['continued']), Tree('S', [Tree('NP-SBJ', [Tree('-NONE-', ['*-1'])]), Tree('VP', [Tree('TO', ['to']), Tree('VP', [Tree('VB', ['slide'])])])]), Tree(',', [',']), Tree('PP-LOC', [Tree('IN', ['amid']), Tree('NP', [Tree('NNS', ['signs']), Tree('SBAR', [Tree('IN', ['that']), Tree('S', [Tree('NP-SBJ', [Tree('NN', ['portfolio']), Tree('NNS', ['managers'])]), Tree('VP', [Tree('VBP', ['expect']), Tree('NP', [Tree('NP', [Tree('JJ', ['further']), Tree('NNS', ['declines'])]), Tree('PP-LOC', [Tree('IN', ['in']), Tree('NP', [Tree('NN', ['interest']), Tree('NNS', ['rates'])])])])])])])])])]),\n",
       " Tree('VP', [Tree('VBN', ['thought']), Tree('S', [Tree('NP-SBJ', [Tree('-NONE-', ['*-1'])]), Tree('VP', [Tree('TO', ['to']), Tree('VP', [Tree('VB', ['indicate']), Tree('NP', [Tree('VBG', ['declining']), Tree('NN', ['interest']), Tree('NNS', ['rates'])]), Tree('SBAR-PRP', [Tree('IN', ['because']), Tree('S', [Tree('NP-SBJ', [Tree('PRP', ['they'])]), Tree('VP', [Tree('VBP', ['permit']), Tree('S', [Tree('NP-SBJ', [Tree('NN', ['portfolio']), Tree('NNS', ['managers'])]), Tree('VP', [Tree('TO', ['to']), Tree('VP', [Tree('VB', ['retain']), Tree('NP', [Tree('RB', ['relatively']), Tree('JJR', ['higher']), Tree('NNS', ['rates'])]), Tree('PP-TMP', [Tree('IN', ['for']), Tree('NP', [Tree('DT', ['a']), Tree('JJR', ['longer']), Tree('NN', ['period'])])])])])])])])])])])])])]"
      ]
     },
     "execution_count": 22,
     "metadata": {},
     "output_type": "execute_result"
    }
   ],
   "source": [
    "from nltk.corpus import treebank\n",
    "[subtree for tree in treebank.parsed_sents()\n",
    "    for subtree in tree.subtrees(filter)][:10]"
   ]
  },
  {
   "cell_type": "code",
   "execution_count": 24,
   "metadata": {
    "collapsed": false
   },
   "outputs": [],
   "source": [
    "from collections import defaultdict\n",
    "entries = nltk.corpus.ppattach.attachments('training')\n",
    "table = defaultdict(lambda: defaultdict(set))\n",
    "for entry in entries:\n",
    "    key = entry.noun1 + '-' + entry.prep + '-' + entry.noun2\n",
    "    table[key][entry.attachment].add(entry.verb)"
   ]
  },
  {
   "cell_type": "code",
   "execution_count": 25,
   "metadata": {
    "collapsed": false
   },
   "outputs": [
    {
     "name": "stdout",
     "output_type": "stream",
     "text": [
      "%-below-level N: ['left'] V: ['be']\n",
      "%-from-year N: ['was'] V: ['declined', 'dropped', 'fell', 'grew', 'increased', 'plunged', 'rose', 'was']\n",
      "%-in-August N: ['was'] V: ['climbed', 'fell', 'leaping', 'rising', 'rose']\n",
      "%-in-September N: ['increased'] V: ['climbed', 'declined', 'dropped', 'edged', 'fell', 'grew', 'plunged', 'rose', 'slipped']\n",
      "%-in-week N: ['declined'] V: ['was']\n",
      "%-to-% N: ['add', 'added', 'backed', 'be', 'cut', 'go', 'grow', 'increased', 'increasing', 'is', 'offer', 'plummet', 'reduce', 'rejected', 'rise', 'risen', 'shaved', 'wants', 'yield', 'zapping'] V: ['fell', 'rise', 'slipped']\n",
      "%-to-million N: ['declining'] V: ['advanced', 'climbed', 'cutting', 'declined', 'declining', 'dived', 'dropped', 'edged', 'fell', 'gained', 'grew', 'increased', 'jump', 'jumped', 'plunged', 'rising', 'rose', 'slid', 'slipped', 'soared', 'tumbled']\n",
      "1-to-21 N: ['dropped'] V: ['dropped']\n",
      "1-to-33 N: ['gained'] V: ['dropped', 'fell', 'jumped']\n",
      "1-to-4 N: ['added'] V: ['gained']\n",
      "1-to-47 N: ['jumped'] V: ['added', 'rose']\n",
      "1-to-point N: ['ended'] V: ['fell', 'rose']\n",
      "3-to-17 N: ['lost'] V: ['lost']\n",
      "500,000-in-fines N: ['paid'] V: ['paid']\n",
      "6.9-on-scale N: ['registered'] V: ['registered']\n",
      "access-to-AZT N: ['had'] V: ['had']\n",
      "access-to-arena N: ['permits'] V: ['lack']\n",
      "activity-in-part N: ['showed'] V: ['attributed']\n",
      "agreement-in-principle N: ['reached'] V: ['reached']\n",
      "agreement-with-Inc. N: ['announced', 'signed'] V: ['signed']\n",
      "agreement-with-creditors N: ['reached'] V: ['nearing']\n",
      "agreement-with-regulators N: ['presages', 'reach'] V: ['reach']\n",
      "aid-to-Contras N: ['renewing'] V: ['renewing']\n",
      "alliance-with-GM N: ['discussing', 'wrapping'] V: ['forge', 'have', 'negotiating']\n",
      "approval-for-drug N: ['granted'] V: ['obtain']\n",
      "attention-to-comments N: ['paid'] V: ['paid']\n",
      "attention-to-concerns N: ['pay'] V: ['show']\n",
      "attention-to-reports N: ['paid'] V: ['pay']\n",
      "bid-for-company N: ['fend', 'launch'] V: ['made', 'make']\n",
      "bid-for-million N: ['finance'] V: ['had']\n",
      "bids-for-company N: ['submitted'] V: ['solicit']\n",
      "billion-in-cash N: ['pay', 'raise'] V: ['raise']\n",
      "billion-of-bills N: ['sell', 'sold'] V: ['sold']\n",
      "billion-over-years N: ['total'] V: ['spent']\n",
      "billion-to-billion N: ['cause', 'place'] V: ['increased', 'rose']\n",
      "business-to-firms N: ['cutting'] V: ['give', 'transfer']\n",
      "business-with-them N: ['cease'] V: ['do']\n",
      "cap-on-amount N: ['eliminate'] V: ['places']\n",
      "cents-to-cents N: ['be', 'recovering'] V: ['fell', 'rose']\n",
      "change-in-earnings N: ['had'] V: ['had']\n",
      "changes-for-% N: ['measures'] V: ['measures', 'monitors']\n",
      "charge-in-quarter N: ['took'] V: ['had', 'included', 'incur', 'take', 'took']\n",
      "collar-on-trading N: ['re-establishing'] V: ['reinstating']\n",
      "commitments-from-banks N: ['secured', 'won'] V: ['obtained']\n",
      "competition-from-competitors N: ['faced'] V: ['fend']\n",
      "competition-in-production N: ['reduce'] V: ['reduce']\n",
      "contract-for-parts N: ['awarded', 'given', 'won'] V: ['received']\n",
      "contract-for-support N: ['awarded', 'issued'] V: ['received']\n",
      "contract-from-Co. N: ['received'] V: ['won']\n",
      "contract-with-Warner N: ['violates'] V: ['terminate']\n",
      "control-of-Inc. N: ['took'] V: ['seek']\n",
      "decline-for-quarter N: ['posted'] V: ['reported']\n",
      "decline-in-August N: ['followed', 'following', 'recorded'] V: ['following']\n",
      "decline-in-earnings N: ['alleviate', 'report', 'reported'] V: ['expects']\n",
      "declines-in-prices N: ['reflect'] V: ['had']\n",
      "disputes-with-company N: ['resolve'] V: ['resolve']\n",
      "domestic-production-through-July N: ['includes'] V: ['includes']\n",
      "drop-in-earnings N: ['posted'] V: ['posted']\n",
      "drop-in-profit N: ['experienced', 'had', 'posted', 'reported', 'reporting'] V: ['posted']\n",
      "earnings-for-companies N: ['reported'] V: ['reported']\n",
      "earnings-for-quarter N: ['posting'] V: ['posted', 'report', 'reported']\n",
      "earnings-in-quarter N: ['projecting'] V: ['had']\n",
      "earnings-of-million N: ['had', 'include', 'posted', 'reported'] V: ['reported']\n",
      "effect-on-market N: ['had'] V: ['had']\n",
      "emphasis-on-quality N: ['be'] V: ['place']\n",
      "financing-for-buy-out N: ['deliver', 'get'] V: ['obtaining']\n",
      "floor-for-price N: ['establishes'] V: ['providing']\n",
      "foot-in-door N: ['wanted'] V: ['getting']\n",
      "funding-for-abortion N: ['supporting'] V: ['oppose']\n",
      "funds-for-station N: ['including', 'providing'] V: ['includes']\n",
      "gain-from-sale N: ['included', 'includes'] V: ['a-Includes', 'including', 'record', 'report']\n",
      "gain-in-profit N: ['posted', 'reported'] V: ['posted']\n",
      "head-to-head N: ['going'] V: ['go']\n",
      "impact-on-market N: ['have'] V: ['has', 'have']\n",
      "impact-on-markets N: ['had'] V: ['have']\n",
      "impact-on-results N: ['have'] V: ['have']\n",
      "income-for-quarter N: ['announcing'] V: ['report']\n",
      "increase-in-earnings N: ['reported'] V: ['posted']\n",
      "information-from-companies N: ['requested'] V: ['steal']\n",
      "inquiry-into-activities N: ['conducted'] V: ['drop']\n",
      "interest-in-company N: ['bought', 'have', 'holds', 'owning', 'retain'] V: ['represent']\n",
      "interest-in-metals N: ['create'] V: ['was']\n",
      "interest-on-loans N: ['computing'] V: ['pay']\n",
      "loans-to-China N: ['suspended'] V: ['resuming']\n",
      "loss-for-quarter N: ['announced', 'have', 'post', 'posted', 'reported', 'reporting'] V: ['post', 'report', 'reported']\n",
      "loss-in-quarter N: ['expect', 'had'] V: ['caused', 'had', 'posted', 'took']\n",
      "losses-in-years N: ['reported'] V: ['had']\n",
      "markets-in-stocks N: ['making'] V: ['make']\n",
      "million-before-tax N: ['reported'] V: ['contributed']\n",
      "million-for-initiative N: ['attached'] V: ['add']\n",
      "million-for-stake N: ['pay'] V: ['paid', 'pay', 'putting']\n",
      "million-from-funds N: ['commit'] V: ['raises']\n",
      "million-from-operations N: ['included'] V: ['reported']\n",
      "million-from-sale N: ['including'] V: ['take']\n",
      "million-in-payments N: ['make', 'owes', 'pay', 'receive'] V: ['fallen']\n",
      "million-of-debt N: ['add', 'borrow', 'consolidate', 'convert', 'downgraded', 'includes', 'pay', 'raise'] V: ['assume']\n",
      "million-on-revenue N: ['earned'] V: ['earned', 'was', 'were']\n",
      "million-on-sales N: ['earned'] V: ['earned', 'reach', 'totaled', 'was', 'were']\n",
      "million-to-million N: ['be', 'bills', 'cost', 'pump', 'sell', 'totaled'] V: ['declined', 'fell', 'spend', 'tumbled']\n",
      "month-in-time N: ['delivered'] V: ['delivered']\n",
      "net-on-revenue N: ['posted'] V: ['reported']\n",
      "nothing-about-it N: ['knew'] V: ['doing']\n",
      "offer-for-all N: ['begun', 'make'] V: ['begin']\n",
      "offer-for-shares N: ['began', 'extended'] V: ['launched', 'made']\n",
      "offer-for-stock N: ['extended'] V: ['make']\n",
      "offer-from-group N: ['rejected'] V: ['received']\n",
      "office-in-Worth N: ['Call'] V: ['has']\n",
      "pace-with-inflation N: ['keep', 'keeping'] V: ['keep']\n",
      "payment-on-million N: ['make'] V: ['make']\n",
      "payments-on-debt N: ['cover', 'make'] V: ['make']\n",
      "president-in-charge N: ['is', 'named'] V: ['been']\n",
      "pressure-on-government N: ['keep'] V: ['keep', 'put']\n",
      "pressure-on-prices N: ['suffered'] V: ['keep', 'put']\n",
      "price-for-incentives N: ['paid'] V: ['paid']\n",
      "prices-on-market N: ['push'] V: ['bring']\n",
      "profit-for-year N: ['report'] V: ['report']\n",
      "profit-from-discontinued N: ['had'] V: ['was']\n",
      "profit-in-quarter N: ['indicates'] V: ['produce', 'recorded']\n",
      "projections-for-year N: ['slashed'] V: ['exceed']\n",
      "provisions-for-loans N: ['taken'] V: ['made']\n",
      "rates-to-% N: ['boosting'] V: ['increase', 'pushed', 'raised']\n",
      "reporter-in-bureau N: ['is'] V: ['is']\n",
      "restrictions-on-use N: ['waiving'] V: ['impose']\n",
      "revenue-for-year N: ['projected'] V: ['had']\n",
      "revenue-in-quarter N: ['expects'] V: ['had']\n",
      "sales-in-excess N: ['combined'] V: ['had']\n",
      "sales-in-quarter N: ['had'] V: ['increasing']\n",
      "sales-of-million N: ['expected', 'had', 'has', 'have', 'posted'] V: ['had']\n",
      "salvo-in-battle N: ['marking'] V: ['marking']\n",
      "services-for-customers N: ['offering'] V: ['provide']\n",
      "shareholder-in-bank N: ['become'] V: ['become']\n",
      "stake-in-Airlines N: ['acquiring', 'buy', 'raise'] V: ['buy']\n",
      "stake-in-Mixte N: ['bring'] V: ['boost']\n",
      "stake-in-Rally N: ['hold'] V: ['had']\n",
      "stake-in-company N: ['bought', 'building', 'built', 'buying', 'give', 'hold', 'obtaining', 'own', 'owns', 'raised', 'take'] V: ['accumulating', 'had', 'has', 'holds', 'own']\n",
      "stake-in-concern N: ['acquires', 'lowered'] V: ['retaining']\n",
      "stake-in-unit N: ['sell'] V: ['acquire']\n",
      "stake-in-venture N: ['has', 'hold', 'holds'] V: ['held']\n",
      "suit-against-Keating N: ['press'] V: ['brought']\n",
      "swings-in-market N: ['cause', 'create'] V: ['cause']\n",
      "system-for-city N: ['design'] V: ['design']\n",
      "system-in-Pakistan N: ['operate'] V: ['operate']\n",
      "time-for-Congress N: ['is'] V: ['buy', 'buys']\n",
      "venture-with-Co. N: ['started'] V: ['started']\n",
      "ventures-with-companies N: ['established'] V: ['form']\n",
      "verdict-in-case N: ['is', 'won'] V: ['won']\n",
      "volatility-in-stocks N: ['ignoring'] V: ['see']\n",
      "vote-on-issue N: ['allow'] V: ['prevent']\n",
      "way-for-declines N: ['open'] V: ['pave']\n",
      "writer-in-York N: ['is'] V: ['is']\n",
      "yen-to-yen N: ['shed'] V: ['advanced', 'fell', 'gained', 'lost', 'rose']\n"
     ]
    }
   ],
   "source": [
    "for key in sorted(table):\n",
    "    if len(table[key]) > 1:\n",
    "        print(key, 'N:', sorted(table[key]['N']), 'V:', sorted(table[key]['V']))"
   ]
  },
  {
   "cell_type": "code",
   "execution_count": 27,
   "metadata": {
    "collapsed": false
   },
   "outputs": [],
   "source": [
    "nltk.corpus.sinica_treebank.parsed_sents()[3450].draw()"
   ]
  },
  {
   "cell_type": "code",
   "execution_count": 27,
   "metadata": {
    "collapsed": true
   },
   "outputs": [],
   "source": [
    "grammar = nltk.CFG.fromstring(\"\"\"\n",
    "S -> NP V NP\n",
    "NP -> NP Sbar\n",
    "Sbar -> NP V\n",
    "NP -> 'fish'\n",
    "V -> 'fish'\n",
    "\"\"\")"
   ]
  },
  {
   "cell_type": "code",
   "execution_count": 28,
   "metadata": {
    "collapsed": false
   },
   "outputs": [
    {
     "name": "stdout",
     "output_type": "stream",
     "text": [
      "(S (NP fish) (V fish) (NP (NP fish) (Sbar (NP fish) (V fish))))\n",
      "(S (NP (NP fish) (Sbar (NP fish) (V fish))) (V fish) (NP fish))\n"
     ]
    }
   ],
   "source": [
    "tokens = [\"fish\"] * 5\n",
    "cp = nltk.ChartParser(grammar)\n",
    "for tree in cp.parse(tokens):\n",
    "    print(tree)"
   ]
  },
  {
   "cell_type": "code",
   "execution_count": 29,
   "metadata": {
    "collapsed": true
   },
   "outputs": [],
   "source": [
    "def give(t):\n",
    "    return t.label() == 'VP' and len(t) > 2 and t[1].label() == 'NP'\\\n",
    "           and (t[2].label() == 'PP-DTV' or t[2].label() == 'NP')\\\n",
    "           and ('give' in t[0].leaves() or 'gave' in t[0].leaves())\n",
    "def sent(t):\n",
    "    return ' '.join(token for token in t.leaves() if token[0] not in '*-0')\n",
    "def print_node(t, width):\n",
    "        output = \"%s %s: %s / %s: %s\" %\\\n",
    "            (sent(t[0]), t[1].label(), sent(t[1]), t[2].label(), sent(t[2]))\n",
    "        if len(output) > width:\n",
    "            output = output[:width] + \"...\"\n",
    "        print(output)"
   ]
  },
  {
   "cell_type": "code",
   "execution_count": 30,
   "metadata": {
    "collapsed": false
   },
   "outputs": [
    {
     "name": "stdout",
     "output_type": "stream",
     "text": [
      "gave NP: the chefs / NP: a standing ovation\n",
      "give NP: advertisers / NP: discounts for maintaining or increasing ad sp...\n",
      "give NP: it / PP-DTV: to the politicians\n",
      "gave NP: them / NP: similar help\n",
      "give NP: them / NP: \n",
      "give NP: only French history questions / PP-DTV: to students in a Europe...\n",
      "give NP: federal judges / NP: a raise\n",
      "give NP: consumers / NP: the straight scoop on the U.S. waste crisis\n",
      "gave NP: Mitsui / NP: access to a high-tech medical product\n",
      "give NP: Mitsubishi / NP: a window on the U.S. glass industry\n",
      "give NP: much thought / PP-DTV: to the rates she was receiving , nor to ...\n",
      "give NP: your Foster Savings Institution / NP: the gift of hope and free...\n",
      "give NP: market operators / NP: the authority to suspend trading in futu...\n",
      "gave NP: quick approval / PP-DTV: to $ 3.18 billion in supplemental appr...\n",
      "give NP: the Transportation Department / NP: up to 50 days to review any...\n",
      "give NP: the president / NP: such power\n",
      "give NP: me / NP: the heebie-jeebies\n",
      "give NP: holders / NP: the right , but not the obligation , to buy a cal...\n",
      "gave NP: Mr. Thomas / NP: only a `` qualified '' rating , rather than ``...\n",
      "give NP: the president / NP: line-item veto power\n"
     ]
    }
   ],
   "source": [
    "for tree in nltk.corpus.treebank.parsed_sents():\n",
    "    for t in tree.subtrees(give):\n",
    "        print_node(t, 72)"
   ]
  },
  {
   "cell_type": "code",
   "execution_count": 31,
   "metadata": {
    "collapsed": true
   },
   "outputs": [],
   "source": [
    "grammar = nltk.PCFG.fromstring(\"\"\"\n",
    "    S    -> NP VP              [1.0]\n",
    "    VP   -> TV NP              [0.4]\n",
    "    VP   -> IV                 [0.3]\n",
    "    VP   -> DatV NP NP         [0.3]\n",
    "    TV   -> 'saw'              [1.0]\n",
    "    IV   -> 'ate'              [1.0]\n",
    "    DatV -> 'gave'             [1.0]\n",
    "    NP   -> 'telescopes'       [0.8]\n",
    "    NP   -> 'Jack'             [0.2]\n",
    "    \"\"\")"
   ]
  },
  {
   "cell_type": "code",
   "execution_count": 32,
   "metadata": {
    "collapsed": false
   },
   "outputs": [
    {
     "name": "stdout",
     "output_type": "stream",
     "text": [
      "Grammar with 9 productions (start state = S)\n",
      "    S -> NP VP [1.0]\n",
      "    VP -> TV NP [0.4]\n",
      "    VP -> IV [0.3]\n",
      "    VP -> DatV NP NP [0.3]\n",
      "    TV -> 'saw' [1.0]\n",
      "    IV -> 'ate' [1.0]\n",
      "    DatV -> 'gave' [1.0]\n",
      "    NP -> 'telescopes' [0.8]\n",
      "    NP -> 'Jack' [0.2]\n"
     ]
    }
   ],
   "source": [
    "print(grammar)"
   ]
  },
  {
   "cell_type": "code",
   "execution_count": 33,
   "metadata": {
    "collapsed": false
   },
   "outputs": [
    {
     "name": "stdout",
     "output_type": "stream",
     "text": [
      "(S (NP Jack) (VP (TV saw) (NP telescopes))) (p=0.064)\n"
     ]
    }
   ],
   "source": [
    "viterbi_parser = nltk.ViterbiParser(grammar)\n",
    "for tree in viterbi_parser.parse(['Jack', 'saw', 'telescopes']):\n",
    "    print(tree)"
   ]
  },
  {
   "cell_type": "code",
   "execution_count": null,
   "metadata": {
    "collapsed": true
   },
   "outputs": [],
   "source": []
  }
 ],
 "metadata": {
  "anaconda-cloud": {},
  "kernelspec": {
   "display_name": "Python [default]",
   "language": "python",
   "name": "python3"
  },
  "language_info": {
   "codemirror_mode": {
    "name": "ipython",
    "version": 3
   },
   "file_extension": ".py",
   "mimetype": "text/x-python",
   "name": "python",
   "nbconvert_exporter": "python",
   "pygments_lexer": "ipython3",
   "version": "3.5.2"
  }
 },
 "nbformat": 4,
 "nbformat_minor": 1
}
