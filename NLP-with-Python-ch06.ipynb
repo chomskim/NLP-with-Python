{
 "cells": [
  {
   "cell_type": "markdown",
   "metadata": {},
   "source": [
    "# 6. Learning to Classify Text"
   ]
  },
  {
   "cell_type": "markdown",
   "metadata": {},
   "source": [
    "## 6.1 Supervised Classification"
   ]
  },
  {
   "cell_type": "code",
   "execution_count": 1,
   "metadata": {
    "collapsed": true
   },
   "outputs": [],
   "source": [
    "import nltk"
   ]
  },
  {
   "cell_type": "code",
   "execution_count": 2,
   "metadata": {
    "collapsed": true
   },
   "outputs": [],
   "source": [
    "def gender_features(word):\n",
    "    return {'last_letter': word[-1]}"
   ]
  },
  {
   "cell_type": "code",
   "execution_count": 3,
   "metadata": {
    "collapsed": false
   },
   "outputs": [
    {
     "data": {
      "text/plain": [
       "{'last_letter': 'k'}"
      ]
     },
     "execution_count": 3,
     "metadata": {},
     "output_type": "execute_result"
    }
   ],
   "source": [
    "gender_features('Shrek')"
   ]
  },
  {
   "cell_type": "code",
   "execution_count": 4,
   "metadata": {
    "collapsed": true
   },
   "outputs": [],
   "source": [
    "from nltk.corpus import names\n",
    "labeled_names = ([(name, 'male') for name in names.words('male.txt')] +\n",
    "    [(name, 'female') for name in names.words('female.txt')])"
   ]
  },
  {
   "cell_type": "code",
   "execution_count": 5,
   "metadata": {
    "collapsed": false
   },
   "outputs": [
    {
     "name": "stdout",
     "output_type": "stream",
     "text": [
      "[('Alayne', 'female'), ('Winne', 'female'), ('Felix', 'male'), ('Ruella', 'female'), ('Rowena', 'female'), ('Hallie', 'female'), ('Rosario', 'female'), ('Barbee', 'female'), ('Shurlock', 'male'), ('Esma', 'female'), ('Cecil', 'female'), ('Ximenez', 'male'), ('Noble', 'male'), ('Fiona', 'female'), ('Jessee', 'male'), ('Fancie', 'female'), ('Abbott', 'male'), ('Alyce', 'female'), ('Derrin', 'male'), ('Kelley', 'male')]\n"
     ]
    }
   ],
   "source": [
    "import random\n",
    "random.shuffle(labeled_names)\n",
    "print(labeled_names[:20])"
   ]
  },
  {
   "cell_type": "code",
   "execution_count": 6,
   "metadata": {
    "collapsed": false
   },
   "outputs": [],
   "source": [
    "featuresets = [(gender_features(n), g) for (n,g) in labeled_names]\n",
    "train_set, test_set = featuresets[500:], featuresets[:500]\n",
    "classifier = nltk.NaiveBayesClassifier.train(train_set)"
   ]
  },
  {
   "cell_type": "code",
   "execution_count": 7,
   "metadata": {
    "collapsed": false
   },
   "outputs": [
    {
     "data": {
      "text/plain": [
       "'male'"
      ]
     },
     "execution_count": 7,
     "metadata": {},
     "output_type": "execute_result"
    }
   ],
   "source": [
    "classifier.classify(gender_features('Neo'))"
   ]
  },
  {
   "cell_type": "code",
   "execution_count": 8,
   "metadata": {
    "collapsed": false
   },
   "outputs": [
    {
     "data": {
      "text/plain": [
       "'female'"
      ]
     },
     "execution_count": 8,
     "metadata": {},
     "output_type": "execute_result"
    }
   ],
   "source": [
    "classifier.classify(gender_features('Trinity'))"
   ]
  },
  {
   "cell_type": "code",
   "execution_count": 9,
   "metadata": {
    "collapsed": false
   },
   "outputs": [
    {
     "name": "stdout",
     "output_type": "stream",
     "text": [
      "0.73\n"
     ]
    }
   ],
   "source": [
    "print (nltk.classify.accuracy(classifier, test_set))"
   ]
  },
  {
   "cell_type": "code",
   "execution_count": 10,
   "metadata": {
    "collapsed": false
   },
   "outputs": [
    {
     "name": "stdout",
     "output_type": "stream",
     "text": [
      "Most Informative Features\n",
      "             last_letter = 'a'            female : male   =     33.2 : 1.0\n",
      "             last_letter = 'k'              male : female =     29.3 : 1.0\n",
      "             last_letter = 'f'              male : female =     15.9 : 1.0\n",
      "             last_letter = 'p'              male : female =     12.5 : 1.0\n",
      "             last_letter = 'v'              male : female =     11.2 : 1.0\n"
     ]
    }
   ],
   "source": [
    "classifier.show_most_informative_features(5)"
   ]
  },
  {
   "cell_type": "code",
   "execution_count": 11,
   "metadata": {
    "collapsed": false
   },
   "outputs": [],
   "source": [
    "from nltk.classify import apply_features\n",
    "train_set = apply_features(gender_features, labeled_names[500:])\n",
    "test_set = apply_features(gender_features, labeled_names[:500])"
   ]
  },
  {
   "cell_type": "code",
   "execution_count": 12,
   "metadata": {
    "collapsed": false
   },
   "outputs": [],
   "source": [
    "def gender_features2(name):\n",
    "    features = {}\n",
    "    features[\"firstletter\"] = name[0].lower()\n",
    "    features[\"lastletter\"] = name[-1].lower()\n",
    "    for letter in 'abcdefghijklmnopqrstuvwxyz':\n",
    "        features[\"count(%s)\" % letter] = name.lower().count(letter)\n",
    "        features[\"has(%s)\" % letter] = (letter in name.lower())\n",
    "    return features\n"
   ]
  },
  {
   "cell_type": "code",
   "execution_count": 13,
   "metadata": {
    "collapsed": false
   },
   "outputs": [
    {
     "data": {
      "text/plain": [
       "{'count(a)': 0,\n",
       " 'count(b)': 0,\n",
       " 'count(c)': 0,\n",
       " 'count(d)': 0,\n",
       " 'count(e)': 0,\n",
       " 'count(f)': 0,\n",
       " 'count(g)': 0,\n",
       " 'count(h)': 1,\n",
       " 'count(i)': 0,\n",
       " 'count(j)': 1,\n",
       " 'count(k)': 0,\n",
       " 'count(l)': 0,\n",
       " 'count(m)': 0,\n",
       " 'count(n)': 1,\n",
       " 'count(o)': 1,\n",
       " 'count(p)': 0,\n",
       " 'count(q)': 0,\n",
       " 'count(r)': 0,\n",
       " 'count(s)': 0,\n",
       " 'count(t)': 0,\n",
       " 'count(u)': 0,\n",
       " 'count(v)': 0,\n",
       " 'count(w)': 0,\n",
       " 'count(x)': 0,\n",
       " 'count(y)': 0,\n",
       " 'count(z)': 0,\n",
       " 'firstletter': 'j',\n",
       " 'has(a)': False,\n",
       " 'has(b)': False,\n",
       " 'has(c)': False,\n",
       " 'has(d)': False,\n",
       " 'has(e)': False,\n",
       " 'has(f)': False,\n",
       " 'has(g)': False,\n",
       " 'has(h)': True,\n",
       " 'has(i)': False,\n",
       " 'has(j)': True,\n",
       " 'has(k)': False,\n",
       " 'has(l)': False,\n",
       " 'has(m)': False,\n",
       " 'has(n)': True,\n",
       " 'has(o)': True,\n",
       " 'has(p)': False,\n",
       " 'has(q)': False,\n",
       " 'has(r)': False,\n",
       " 'has(s)': False,\n",
       " 'has(t)': False,\n",
       " 'has(u)': False,\n",
       " 'has(v)': False,\n",
       " 'has(w)': False,\n",
       " 'has(x)': False,\n",
       " 'has(y)': False,\n",
       " 'has(z)': False,\n",
       " 'lastletter': 'n'}"
      ]
     },
     "execution_count": 13,
     "metadata": {},
     "output_type": "execute_result"
    }
   ],
   "source": [
    "gender_features2('John')"
   ]
  },
  {
   "cell_type": "code",
   "execution_count": 14,
   "metadata": {
    "collapsed": false
   },
   "outputs": [
    {
     "name": "stdout",
     "output_type": "stream",
     "text": [
      "0.756\n"
     ]
    }
   ],
   "source": [
    "featuresets = [(gender_features2(n), g) for (n,g) in labeled_names]\n",
    "train_set, test_set = featuresets[500:], featuresets[:500]\n",
    "classifier = nltk.NaiveBayesClassifier.train(train_set)\n",
    "print (nltk.classify.accuracy(classifier, test_set))"
   ]
  },
  {
   "cell_type": "code",
   "execution_count": 15,
   "metadata": {
    "collapsed": true
   },
   "outputs": [],
   "source": [
    "train_names = labeled_names[1500:]\n",
    "devtest_names = labeled_names[500:1500]\n",
    "test_names = labeled_names[:500]"
   ]
  },
  {
   "cell_type": "code",
   "execution_count": 16,
   "metadata": {
    "collapsed": false
   },
   "outputs": [
    {
     "name": "stdout",
     "output_type": "stream",
     "text": [
      "0.754\n"
     ]
    }
   ],
   "source": [
    "train_set = [(gender_features(n), g) for (n,g) in train_names]\n",
    "devtest_set = [(gender_features(n), g) for (n,g) in devtest_names]\n",
    "test_set = [(gender_features(n), g) for (n,g) in test_names]\n",
    "classifier = nltk.NaiveBayesClassifier.train(train_set)\n",
    "print (nltk.classify.accuracy(classifier, devtest_set))"
   ]
  },
  {
   "cell_type": "code",
   "execution_count": 17,
   "metadata": {
    "collapsed": false
   },
   "outputs": [
    {
     "data": {
      "text/plain": [
       "246"
      ]
     },
     "execution_count": 17,
     "metadata": {},
     "output_type": "execute_result"
    }
   ],
   "source": [
    "errors = []\n",
    "for (name, tag) in devtest_names:\n",
    "    guess = classifier.classify(gender_features(name))\n",
    "    if guess != tag:\n",
    "        errors.append( (tag, guess, name) )\n",
    "len(errors)"
   ]
  },
  {
   "cell_type": "code",
   "execution_count": 18,
   "metadata": {
    "collapsed": false
   },
   "outputs": [
    {
     "name": "stdout",
     "output_type": "stream",
     "text": [
      "correct=female   guess=male     name=Adrian                        \n",
      "correct=female   guess=male     name=Ag                            \n",
      "correct=female   guess=male     name=Ailyn                         \n",
      "correct=female   guess=male     name=Alex                          \n",
      "correct=female   guess=male     name=Alis                          \n",
      "correct=female   guess=male     name=Alison                        \n",
      "correct=female   guess=male     name=Alisun                        \n",
      "correct=female   guess=male     name=Arlyn                         \n",
      "correct=female   guess=male     name=Berget                        \n",
      "correct=female   guess=male     name=Bette-Ann                     \n",
      "correct=female   guess=male     name=Brier                         \n",
      "correct=female   guess=male     name=Brigit                        \n",
      "correct=female   guess=male     name=Carol-Jean                    \n",
      "correct=female   guess=male     name=Carolann                      \n",
      "correct=female   guess=male     name=Charis                        \n",
      "correct=female   guess=male     name=Charlott                      \n",
      "correct=female   guess=male     name=Cherlyn                       \n",
      "correct=female   guess=male     name=Christin                      \n",
      "correct=female   guess=male     name=Chrysler                      \n",
      "correct=female   guess=male     name=Clio                          \n",
      "correct=female   guess=male     name=Coleen                        \n",
      "correct=female   guess=male     name=Corliss                       \n",
      "correct=female   guess=male     name=Cris                          \n",
      "correct=female   guess=male     name=Dagmar                        \n",
      "correct=female   guess=male     name=Daloris                       \n",
      "correct=female   guess=male     name=Dawn                          \n",
      "correct=female   guess=male     name=Diann                         \n",
      "correct=female   guess=male     name=Doloritas                     \n",
      "correct=female   guess=male     name=Doralin                       \n",
      "correct=female   guess=male     name=Doro                          \n",
      "correct=female   guess=male     name=Elyn                          \n",
      "correct=female   guess=male     name=Ester                         \n",
      "correct=female   guess=male     name=Esther                        \n",
      "correct=female   guess=male     name=Ethelyn                       \n",
      "correct=female   guess=male     name=Fan                           \n",
      "correct=female   guess=male     name=Floris                        \n",
      "correct=female   guess=male     name=Fran                          \n",
      "correct=female   guess=male     name=Frances                       \n",
      "correct=female   guess=male     name=Germain                       \n",
      "correct=female   guess=male     name=Gillian                       \n",
      "correct=female   guess=male     name=Glennis                       \n",
      "correct=female   guess=male     name=Gunvor                        \n",
      "correct=female   guess=male     name=Hannis                        \n",
      "correct=female   guess=male     name=Harriot                       \n",
      "correct=female   guess=male     name=Hester                        \n",
      "correct=female   guess=male     name=Ines                          \n",
      "correct=female   guess=male     name=Janeen                        \n",
      "correct=female   guess=male     name=Jaquelin                      \n",
      "correct=female   guess=male     name=Jasmin                        \n",
      "correct=female   guess=male     name=JoAnn                         \n",
      "correct=female   guess=male     name=Joannes                       \n",
      "correct=female   guess=male     name=Jordain                       \n",
      "correct=female   guess=male     name=Juliet                        \n",
      "correct=female   guess=male     name=Kaitlyn                       \n",
      "correct=female   guess=male     name=Karilynn                      \n",
      "correct=female   guess=male     name=Karleen                       \n",
      "correct=female   guess=male     name=Kass                          \n",
      "correct=female   guess=male     name=Kathlin                       \n",
      "correct=female   guess=male     name=Kathryn                       \n",
      "correct=female   guess=male     name=Kellyann                      \n",
      "correct=female   guess=male     name=Kevyn                         \n",
      "correct=female   guess=male     name=Kiersten                      \n",
      "correct=female   guess=male     name=Kristien                      \n",
      "correct=female   guess=male     name=Kristin                       \n",
      "correct=female   guess=male     name=Leanor                        \n",
      "correct=female   guess=male     name=Leeann                        \n",
      "correct=female   guess=male     name=Linn                          \n",
      "correct=female   guess=male     name=Lulu                          \n",
      "correct=female   guess=male     name=Lynnett                       \n",
      "correct=female   guess=male     name=Mag                           \n",
      "correct=female   guess=male     name=Manon                         \n",
      "correct=female   guess=male     name=Marilin                       \n",
      "correct=female   guess=male     name=Maryann                       \n",
      "correct=female   guess=male     name=Maureen                       \n",
      "correct=female   guess=male     name=Meghann                       \n",
      "correct=female   guess=male     name=Melisent                      \n",
      "correct=female   guess=male     name=Moreen                        \n",
      "correct=female   guess=male     name=Morgen                        \n",
      "correct=female   guess=male     name=Nan                           \n",
      "correct=female   guess=male     name=Noreen                        \n",
      "correct=female   guess=male     name=Pam                           \n",
      "correct=female   guess=male     name=Phillis                       \n",
      "correct=female   guess=male     name=Pru                           \n",
      "correct=female   guess=male     name=Robin                         \n",
      "correct=female   guess=male     name=Robyn                         \n",
      "correct=female   guess=male     name=Ryann                         \n",
      "correct=female   guess=male     name=Tatum                         \n",
      "correct=female   guess=male     name=Veradis                       \n",
      "correct=female   guess=male     name=Winnifred                     \n",
      "correct=female   guess=male     name=Yoshiko                       \n",
      "correct=male     guess=female   name=Abbie                         \n",
      "correct=male     guess=female   name=Abdullah                      \n",
      "correct=male     guess=female   name=Alley                         \n",
      "correct=male     guess=female   name=Amory                         \n",
      "correct=male     guess=female   name=Anatoly                       \n",
      "correct=male     guess=female   name=Anthony                       \n",
      "correct=male     guess=female   name=Antoni                        \n",
      "correct=male     guess=female   name=Aristotle                     \n",
      "correct=male     guess=female   name=Artie                         \n",
      "correct=male     guess=female   name=Ashby                         \n",
      "correct=male     guess=female   name=Avi                           \n",
      "correct=male     guess=female   name=Bartie                        \n",
      "correct=male     guess=female   name=Binky                         \n",
      "correct=male     guess=female   name=Bjorne                        \n",
      "correct=male     guess=female   name=Broddie                       \n",
      "correct=male     guess=female   name=Burnaby                       \n",
      "correct=male     guess=female   name=Cecil                         \n",
      "correct=male     guess=female   name=Chaddy                        \n",
      "correct=male     guess=female   name=Chancey                       \n",
      "correct=male     guess=female   name=Chaunce                       \n",
      "correct=male     guess=female   name=Chrissy                       \n",
      "correct=male     guess=female   name=Christophe                    \n",
      "correct=male     guess=female   name=Connie                        \n",
      "correct=male     guess=female   name=Connolly                      \n",
      "correct=male     guess=female   name=Cy                            \n",
      "correct=male     guess=female   name=Dani                          \n",
      "correct=male     guess=female   name=Danie                         \n",
      "correct=male     guess=female   name=Daniel                        \n",
      "correct=male     guess=female   name=Dante                         \n",
      "correct=male     guess=female   name=Darby                         \n",
      "correct=male     guess=female   name=Davie                         \n",
      "correct=male     guess=female   name=Dimitry                       \n",
      "correct=male     guess=female   name=Duffie                        \n",
      "correct=male     guess=female   name=Elisha                        \n",
      "correct=male     guess=female   name=Ellsworth                     \n",
      "correct=male     guess=female   name=Emile                         \n",
      "correct=male     guess=female   name=Esme                          \n",
      "correct=male     guess=female   name=Franky                        \n",
      "correct=male     guess=female   name=Frederich                     \n",
      "correct=male     guess=female   name=Gabriell                      \n",
      "correct=male     guess=female   name=Garth                         \n",
      "correct=male     guess=female   name=Geoffry                       \n",
      "correct=male     guess=female   name=Georgia                       \n",
      "correct=male     guess=female   name=Georgie                       \n",
      "correct=male     guess=female   name=Gerry                         \n",
      "correct=male     guess=female   name=Giavani                       \n",
      "correct=male     guess=female   name=Giorgi                        \n",
      "correct=male     guess=female   name=Griffith                      \n",
      "correct=male     guess=female   name=Hamish                        \n",
      "correct=male     guess=female   name=Henrie                        \n",
      "correct=male     guess=female   name=Herve                         \n",
      "correct=male     guess=female   name=Hillary                       \n",
      "correct=male     guess=female   name=Holly                         \n",
      "correct=male     guess=female   name=Howie                         \n",
      "correct=male     guess=female   name=Humphrey                      \n",
      "correct=male     guess=female   name=Immanuel                      \n",
      "correct=male     guess=female   name=Isadore                       \n",
      "correct=male     guess=female   name=Jeremie                       \n",
      "correct=male     guess=female   name=Jerome                        \n",
      "correct=male     guess=female   name=Jeromy                        \n",
      "correct=male     guess=female   name=Jesse                         \n",
      "correct=male     guess=female   name=Jose                          \n",
      "correct=male     guess=female   name=Josiah                        \n",
      "correct=male     guess=female   name=Jude                          \n",
      "correct=male     guess=female   name=Kalle                         \n",
      "correct=male     guess=female   name=Keith                         \n",
      "correct=male     guess=female   name=Kenneth                       \n",
      "correct=male     guess=female   name=Kingsley                      \n",
      "correct=male     guess=female   name=Lanny                         \n",
      "correct=male     guess=female   name=Lawrence                      \n",
      "correct=male     guess=female   name=Lindsay                       \n",
      "correct=male     guess=female   name=Locke                         \n",
      "correct=male     guess=female   name=Lorne                         \n",
      "correct=male     guess=female   name=Mattie                        \n",
      "correct=male     guess=female   name=Meredeth                      \n",
      "correct=male     guess=female   name=Michail                       \n",
      "correct=male     guess=female   name=Michale                       \n",
      "correct=male     guess=female   name=Micheil                       \n",
      "correct=male     guess=female   name=Miguel                        \n",
      "correct=male     guess=female   name=Mischa                        \n",
      "correct=male     guess=female   name=Mitchell                      \n",
      "correct=male     guess=female   name=Murdoch                       \n",
      "correct=male     guess=female   name=Murray                        \n",
      "correct=male     guess=female   name=Neale                         \n",
      "correct=male     guess=female   name=Neddy                         \n",
      "correct=male     guess=female   name=Nicky                         \n",
      "correct=male     guess=female   name=Nigel                         \n",
      "correct=male     guess=female   name=Odie                          \n",
      "correct=male     guess=female   name=Oral                          \n",
      "correct=male     guess=female   name=Orbadiah                      \n",
      "correct=male     guess=female   name=Oswell                        \n",
      "correct=male     guess=female   name=Page                          \n",
      "correct=male     guess=female   name=Parnell                       \n",
      "correct=male     guess=female   name=Parry                         \n",
      "correct=male     guess=female   name=Parsifal                      \n",
      "correct=male     guess=female   name=Pascal                        \n",
      "correct=male     guess=female   name=Pepe                          \n",
      "correct=male     guess=female   name=Percy                         \n",
      "correct=male     guess=female   name=Prentice                      \n",
      "correct=male     guess=female   name=Quigly                        \n",
      "correct=male     guess=female   name=Ransell                       \n",
      "correct=male     guess=female   name=Reece                         \n",
      "correct=male     guess=female   name=Rey                           \n",
      "correct=male     guess=female   name=Rice                          \n",
      "correct=male     guess=female   name=Rikki                         \n",
      "correct=male     guess=female   name=Robbie                        \n",
      "correct=male     guess=female   name=Rocky                         \n",
      "correct=male     guess=female   name=Roderich                      \n",
      "correct=male     guess=female   name=Rolph                         \n",
      "correct=male     guess=female   name=Rory                          \n",
      "correct=male     guess=female   name=Rube                          \n",
      "correct=male     guess=female   name=Salvatore                     \n",
      "correct=male     guess=female   name=Sandy                         \n",
      "correct=male     guess=female   name=Saxe                          \n",
      "correct=male     guess=female   name=Sayre                         \n",
      "correct=male     guess=female   name=Shurlocke                     \n",
      "correct=male     guess=female   name=Sibyl                         \n",
      "correct=male     guess=female   name=Sidnee                        \n",
      "correct=male     guess=female   name=Sidney                        \n",
      "correct=male     guess=female   name=Sloane                        \n",
      "correct=male     guess=female   name=Sonnie                        \n",
      "correct=male     guess=female   name=Stanleigh                     \n",
      "correct=male     guess=female   name=Sully                         \n",
      "correct=male     guess=female   name=Sunny                         \n",
      "correct=male     guess=female   name=Sydney                        \n",
      "correct=male     guess=female   name=Tabby                         \n",
      "correct=male     guess=female   name=Tammie                        \n",
      "correct=male     guess=female   name=Tate                          \n",
      "correct=male     guess=female   name=Tedie                         \n",
      "correct=male     guess=female   name=Terrill                       \n",
      "correct=male     guess=female   name=Terry                         \n",
      "correct=male     guess=female   name=Tirrell                       \n",
      "correct=male     guess=female   name=Tony                          \n",
      "correct=male     guess=female   name=Tore                          \n",
      "correct=male     guess=female   name=Towney                        \n",
      "correct=male     guess=female   name=Troy                          \n",
      "correct=male     guess=female   name=Tulley                        \n",
      "correct=male     guess=female   name=Ty                            \n",
      "correct=male     guess=female   name=Tymothy                       \n",
      "correct=male     guess=female   name=Vasily                        \n",
      "correct=male     guess=female   name=Wadsworth                     \n",
      "correct=male     guess=female   name=Waine                         \n",
      "correct=male     guess=female   name=Wash                          \n",
      "correct=male     guess=female   name=Welbie                        \n",
      "correct=male     guess=female   name=Wendel                        \n",
      "correct=male     guess=female   name=Wendell                       \n",
      "correct=male     guess=female   name=Weslie                        \n",
      "correct=male     guess=female   name=Willey                        \n",
      "correct=male     guess=female   name=Winny                         \n",
      "correct=male     guess=female   name=Witty                         \n",
      "correct=male     guess=female   name=Yale                          \n",
      "correct=male     guess=female   name=Yankee                        \n",
      "correct=male     guess=female   name=Zacharie                      \n",
      "correct=male     guess=female   name=Zacherie                      \n",
      "correct=male     guess=female   name=Zechariah                     \n",
      "correct=male     guess=female   name=Zeke                          \n"
     ]
    }
   ],
   "source": [
    "for (tag, guess, name) in sorted(errors):\n",
    "    print ('correct={:<8} guess={:<8s} name={:<30}'.format(tag, guess, name))"
   ]
  },
  {
   "cell_type": "code",
   "execution_count": 19,
   "metadata": {
    "collapsed": true
   },
   "outputs": [],
   "source": [
    "def gender_features(word):\n",
    "    return {'suffix1': word[-1:], 'suffix2': word[-2:]}"
   ]
  },
  {
   "cell_type": "code",
   "execution_count": 20,
   "metadata": {
    "collapsed": false
   },
   "outputs": [
    {
     "name": "stdout",
     "output_type": "stream",
     "text": [
      "0.777\n"
     ]
    }
   ],
   "source": [
    "train_set = [(gender_features(n), g) for (n,g) in train_names]\n",
    "devtest_set = [(gender_features(n), g) for (n,g) in devtest_names]\n",
    "test_set = [(gender_features(n), g) for (n,g) in test_names]\n",
    "classifier = nltk.NaiveBayesClassifier.train(train_set)\n",
    "print (nltk.classify.accuracy(classifier, devtest_set))"
   ]
  },
  {
   "cell_type": "code",
   "execution_count": 21,
   "metadata": {
    "collapsed": true
   },
   "outputs": [],
   "source": [
    "from nltk.corpus import movie_reviews\n",
    "documents = [(list(movie_reviews.words(fileid)), category)\n",
    "    for category in movie_reviews.categories()\n",
    "    for fileid in movie_reviews.fileids(category)]\n",
    "\n",
    "random.shuffle(documents)"
   ]
  },
  {
   "cell_type": "code",
   "execution_count": 22,
   "metadata": {
    "collapsed": false
   },
   "outputs": [],
   "source": [
    "all_words = nltk.FreqDist(w.lower() for w in movie_reviews.words())\n",
    "word_features = list(all_words.keys())[:2000]"
   ]
  },
  {
   "cell_type": "code",
   "execution_count": 23,
   "metadata": {
    "collapsed": false
   },
   "outputs": [
    {
     "data": {
      "text/plain": [
       "['pollock',\n",
       " 'whammy',\n",
       " 'land',\n",
       " 'spared',\n",
       " 'overachieving',\n",
       " 'mesh',\n",
       " 'hairpiece',\n",
       " 'soho',\n",
       " 'focussed',\n",
       " 'jamahl',\n",
       " 'singe',\n",
       " 'unlikable',\n",
       " 'incredulity',\n",
       " 'veloz',\n",
       " 'lope',\n",
       " 'clear',\n",
       " 'impulse',\n",
       " 'demesne',\n",
       " 'unstable',\n",
       " 'disengaging']"
      ]
     },
     "execution_count": 23,
     "metadata": {},
     "output_type": "execute_result"
    }
   ],
   "source": [
    "list(all_words.keys())[:20]"
   ]
  },
  {
   "cell_type": "code",
   "execution_count": 24,
   "metadata": {
    "collapsed": true
   },
   "outputs": [],
   "source": [
    "def document_features(document):\n",
    "    document_words = set(document)\n",
    "    features = {}\n",
    "    for word in word_features:\n",
    "        features['contains({})'.format(word)] = (word in document_words)\n",
    "    return features"
   ]
  },
  {
   "cell_type": "code",
   "execution_count": 25,
   "metadata": {
    "collapsed": false
   },
   "outputs": [
    {
     "name": "stdout",
     "output_type": "stream",
     "text": [
      "{'contains(families)': False, 'contains(hotties)': False, 'contains(dialectic)': False, 'contains(lowbrow)': False, 'contains(repessed)': False, 'contains(chimp)': False, 'contains(wwii)': False, 'contains(comprehending)': False, 'contains(treacherous)': False, 'contains(tantrum)': False, 'contains(fever)': False, 'contains(undisputed)': False, 'contains(leit)': False, 'contains(cherbourg)': False, 'contains(chats)': False, 'contains(fairy)': False, 'contains(natasha)': False, 'contains(cooperate)': False, 'contains(antarctic)': False, 'contains(biehn)': False, 'contains(opponent)': False, 'contains(reasons)': False, 'contains(pictorial)': False, 'contains(extravaganza)': False, 'contains(charmless)': False, 'contains(supergenius)': False, 'contains(diddly)': False, 'contains(gleam)': False, 'contains(astronomically)': False, 'contains(videoshelves)': False, 'contains(ratchet)': False, 'contains(mesh)': False, 'contains(manhole)': False, 'contains(serves)': False, 'contains(baffles)': False, 'contains(foible)': False, 'contains(menahem)': False, 'contains(constructed)': False, 'contains(drips)': False, 'contains(carson)': False, 'contains(lack)': False, 'contains(pouting)': False, 'contains(fatales)': False, 'contains(nenette)': False, 'contains(bullshitting)': False, 'contains(pedestal)': False, 'contains(toppling)': False, 'contains(palatial)': False, 'contains(discretion)': False, 'contains(camera)': False, 'contains(walters)': False, 'contains(parkas)': False, 'contains(forze)': False, 'contains(exodus)': False, 'contains(interplay)': False, 'contains(telemarketer)': False, 'contains(fragmentary)': False, 'contains(pitchfork)': False, 'contains(affect)': False, 'contains(odereick)': False, 'contains(flitting)': False, 'contains(marries)': False, 'contains(samoan)': False, 'contains(saint)': False, 'contains(digestible)': False, 'contains(uppers)': False, 'contains(lechter)': False, 'contains(sentiments)': False, 'contains(classmates)': False, 'contains(potboiler)': False, 'contains(kickoff)': False, 'contains(spoils)': False, 'contains(reminder)': False, 'contains(hamminess)': False, 'contains(gunton)': False, 'contains(stroller)': False, 'contains(artsier)': False, 'contains(news)': False, 'contains(pubs)': False, 'contains(cent)': False, 'contains(motorcycle)': True, 'contains(k9)': False, 'contains(minkoff)': False, 'contains(friction)': False, 'contains(yo)': False, 'contains(escapades)': False, 'contains(supporting)': False, 'contains(mate)': False, 'contains(troi)': False, 'contains(galoshes)': False, 'contains(belts)': False, 'contains(epitome)': False, 'contains(pinching)': False, 'contains(alligators)': False, 'contains(sweeney)': False, 'contains(trivialised)': False, 'contains(bums)': False, 'contains(patterned)': False, 'contains(robber)': False, 'contains(achieves)': False, 'contains(motor)': False, 'contains(set)': False, 'contains(independence)': False, 'contains(crs)': False, 'contains(immaculate)': False, 'contains(purplish)': False, 'contains(abductions)': False, 'contains(speilberg)': False, 'contains(perreault)': False, 'contains(cds)': False, 'contains(pfcs)': False, 'contains(middleton)': False, 'contains(scarborough)': False, 'contains(demille)': False, 'contains(furnishings)': False, 'contains(cb)': False, 'contains(eschewed)': False, 'contains(maimed)': False, 'contains(abril)': False, 'contains(forboding)': False, 'contains(learning)': False, 'contains(1600s)': False, 'contains(sublimated)': False, 'contains(davidzt)': False, 'contains(brainchild)': False, 'contains(pervious)': False, 'contains(upscale)': False, 'contains(profiteers)': False, 'contains(beck)': False, 'contains(ziyi)': False, 'contains(influx)': False, 'contains(unraveled)': False, 'contains(wedged)': False, 'contains(diametric)': False, 'contains(explicitly)': False, 'contains(tics)': False, 'contains(scrappy)': False, 'contains(textbooks)': False, 'contains(rhinoceros)': False, 'contains(doses)': False, 'contains(signifying)': False, 'contains(heinous)': False, 'contains(vacuum)': False, 'contains(tropps)': False, 'contains(dippy)': False, 'contains(muriel)': False, 'contains(catwalks)': False, 'contains(artist)': False, 'contains(photographic)': False, 'contains(loses)': False, 'contains(henriksen)': False, 'contains(providence)': False, 'contains(researched)': False, 'contains(deception)': False, 'contains(dweebish)': False, 'contains(archeologist)': False, 'contains(physique)': False, 'contains(tender)': False, 'contains(camel)': False, 'contains(reaches)': False, 'contains(enmity)': False, 'contains(dovetail)': False, 'contains(hatchett)': False, 'contains(disperse)': False, 'contains(tolerant)': False, 'contains(sanxay)': False, 'contains(beekeepers)': False, 'contains(supervillain)': False, 'contains(potbelly)': False, 'contains(follower)': False, 'contains(childdhood)': False, 'contains(defiance)': False, 'contains(disguised)': False, 'contains(captions)': False, 'contains(studebakers)': False, 'contains(flashes)': False, 'contains(thereof)': False, 'contains(beater)': False, 'contains(megaglomaniac)': False, 'contains(jodi)': False, 'contains(integration)': False, 'contains(chien)': False, 'contains(libra)': False, 'contains(emerge)': False, 'contains(coalition)': False, 'contains(emmanuelle)': False, 'contains(nationality)': False, 'contains(whirl)': False, 'contains(ppreciate)': False, 'contains(verona)': False, 'contains(terrifically)': False, 'contains(mcallister)': False, 'contains(elwood)': False, 'contains(fowl)': False, 'contains(rewatched)': False, 'contains(internationally)': False, 'contains(pompano)': False, 'contains(images)': False, 'contains(toosie)': False, 'contains(hargrove)': False, 'contains(slavehood)': False, 'contains(unmistakable)': False, 'contains(predictable)': False, 'contains(duffel)': False, 'contains(harrison)': False, 'contains(outtake)': False, 'contains(slum)': False, 'contains(crises)': False, 'contains(actions)': False, 'contains(nixes)': False, 'contains(flynt)': False, 'contains(clerical)': False, 'contains(firearms)': False, 'contains(tactful)': False, 'contains(recollection)': False, 'contains(undercurrent)': False, 'contains(bumpkinisms)': False, 'contains(felt)': False, 'contains(unveil)': False, 'contains(headless)': False, 'contains(explosiveness)': False, 'contains(surname)': False, 'contains(focussed)': False, 'contains(blowout)': False, 'contains(uneducated)': False, 'contains(dumped)': False, 'contains(isaacman)': False, 'contains(fonda)': False, 'contains(patriotism)': False, 'contains(moviestar)': False, 'contains(audiotape)': False, 'contains(johns)': False, 'contains(footage)': False, 'contains(superpowers)': False, 'contains(blitzstein)': False, 'contains(underperforming)': False, 'contains(exacerbates)': False, 'contains(purer)': False, 'contains(solidarity)': False, 'contains(palme)': False, 'contains(ritzy)': False, 'contains(tubby)': False, 'contains(analyze)': False, 'contains(isabella)': False, 'contains(flaquer)': False, 'contains(basking)': False, 'contains(sperm)': False, 'contains(microwave)': False, 'contains(apparel)': False, 'contains(deflower)': False, 'contains(headedness)': False, 'contains(replaces)': False, 'contains(mystique)': False, 'contains(pudding)': False, 'contains(sdds)': False, 'contains(thrives)': False, 'contains(lawford)': False, 'contains(violets)': False, 'contains(stalking)': False, 'contains(idosyncrasies)': False, 'contains(extraordinarily)': False, 'contains(coo)': False, 'contains(television)': False, 'contains(slayer)': False, 'contains(evita)': False, 'contains(ewwwww)': False, 'contains(demesne)': False, 'contains(inquisitiveness)': False, 'contains(stridently)': False, 'contains(intolerant)': False, 'contains(darwin)': False, 'contains(hijinks)': False, 'contains(portents)': False, 'contains(traditionalist)': False, 'contains(funds)': True, 'contains(additions)': False, 'contains(impulse)': False, 'contains(widely)': False, 'contains(confusing)': False, 'contains(alleviate)': False, 'contains(gobbling)': False, 'contains(demographics)': False, 'contains(cuaron)': False, 'contains(brennan)': False, 'contains(jiff)': False, 'contains(corners)': False, 'contains(smurfs)': False, 'contains(mouseketeer)': False, 'contains(pounding)': False, 'contains(solely)': False, 'contains(service)': False, 'contains(perkins)': False, 'contains(problematically)': False, 'contains(playfulness)': False, 'contains(enrolling)': False, 'contains(orangey)': False, 'contains(trooper)': False, 'contains(admirable)': False, 'contains(wheedon)': False, 'contains(unweaves)': False, 'contains(kurgan)': False, 'contains(incidental)': False, 'contains(holbrook)': False, 'contains(horses)': False, 'contains(greggory)': False, 'contains(keen)': False, 'contains(dingy)': False, 'contains(92s)': False, 'contains(elspeth)': False, 'contains(littles)': False, 'contains(drum)': False, 'contains(sebastian)': False, 'contains(ala)': False, 'contains(plate)': False, 'contains(walled)': False, 'contains(blubbering)': False, 'contains(land)': False, 'contains(sunshiny)': False, 'contains(consumers)': False, 'contains(aatish)': False, 'contains(weanies)': False, 'contains(feudal)': False, 'contains(perkily)': False, 'contains(stirs)': False, 'contains(along)': True, 'contains(paraglider)': False, 'contains(garziano)': False, 'contains(jacki)': False, 'contains(outstandingly)': False, 'contains(rogaine)': False, 'contains(ascends)': False, 'contains(snuggles)': False, 'contains(gotcha)': False, 'contains(instill)': False, 'contains(nonchalantly)': False, 'contains(titties)': False, 'contains(bonneville)': False, 'contains(slows)': False, 'contains(fetishization)': False, 'contains(lachman)': False, 'contains(blume)': False, 'contains(tones)': False, 'contains(lures)': False, 'contains(carrier)': False, 'contains(stun)': False, 'contains(dixon)': False, 'contains(whedon)': False, 'contains(moviereviews)': False, 'contains(blackmailed)': False, 'contains(elegant)': False, 'contains(smuggle)': False, 'contains(serene)': False, 'contains(exasperating)': False, 'contains(midnight)': False, 'contains(gums)': False, 'contains(slimeball)': False, 'contains(perpetrator)': False, 'contains(groan)': False, 'contains(foaming)': False, 'contains(astronomer)': False, 'contains(scarsely)': False, 'contains(lea)': False, 'contains(implicitly)': False, 'contains(mandoki)': False, 'contains(soderburgh)': False, 'contains(cable)': False, 'contains(unbilled)': False, 'contains(feeds)': False, 'contains(shaw)': False, 'contains(distasteful)': False, 'contains(#$%)': False, 'contains(marvin)': False, 'contains(kira)': False, 'contains(oppressors)': False, 'contains(yellows)': False, 'contains(humors)': False, 'contains(teaming)': False, 'contains(mensch)': False, 'contains(describe)': False, 'contains(vietnamese)': False, 'contains(madly)': False, 'contains(spoofy)': False, 'contains(dench)': False, 'contains(airiness)': False, 'contains(grew)': False, 'contains(sequal)': False, 'contains(electric)': False, 'contains(outmaneuver)': False, 'contains(plopped)': False, 'contains(partake)': False, 'contains(hutchison)': False, 'contains(uncles)': False, 'contains(manouvering)': False, 'contains(sv2)': False, 'contains(dredd)': False, 'contains(meschach)': False, 'contains(soured)': False, 'contains(judy)': False, 'contains(majorly)': False, 'contains(marble)': False, 'contains(sworn)': False, 'contains(gunpoint)': False, 'contains(phrase)': False, 'contains(iv)': False, 'contains(trampoline)': False, 'contains(soho)': False, 'contains(jamahl)': False, 'contains(servicable)': False, 'contains(charisma)': False, 'contains(spiner)': False, 'contains(juggernaut)': False, 'contains(lobs)': False, 'contains(dallas)': False, 'contains(yelps)': False, 'contains(mentor)': False, 'contains(coens)': False, 'contains(millenium)': False, 'contains(homeworld)': False, 'contains(migrating)': False, 'contains(vampires)': False, 'contains(frey)': False, 'contains(frailties)': False, 'contains(choreographed)': False, 'contains(shagwell)': False, 'contains(chambermaid)': False, 'contains(atrociously)': False, 'contains(expressions)': False, 'contains(neon)': False, 'contains(sphinx)': False, 'contains(piloted)': False, 'contains(impressed)': False, 'contains(breasts)': False, 'contains(legend_)': False, 'contains(italian)': False, 'contains(tondo)': False, 'contains(confirms)': False, 'contains(gunk)': False, 'contains(railed)': False, 'contains(aboriginals)': False, 'contains(thinnest)': False, 'contains(seltzer)': False, 'contains(aris)': False, 'contains(xtc)': False, 'contains(physics)': False, 'contains(forrest)': False, 'contains(enviromentally)': False, 'contains(dov)': False, 'contains(recklessness)': False, 'contains(elixir)': False, 'contains(chronologically)': False, 'contains(glossing)': False, 'contains(pelt)': False, 'contains(local)': False, 'contains(logical)': False, 'contains(tensions)': False, 'contains(winsomely)': False, 'contains(straightforward)': False, 'contains(affirming)': False, 'contains(slight)': False, 'contains(witness)': False, 'contains(samples)': False, 'contains(droning)': False, 'contains(surfeit)': False, 'contains(pommfrit)': False, 'contains(laugher)': False, 'contains(losely)': False, 'contains(jeebies)': False, 'contains(lehman)': False, 'contains(brooks)': False, 'contains(dalloway)': False, 'contains(laughs)': False, 'contains(primo)': False, 'contains(ruins)': False, 'contains(clear)': False, 'contains(recruiter)': False, 'contains(smiling)': False, 'contains(1960s)': False, 'contains(tithe)': False, 'contains(annaud)': False, 'contains(feats)': False, 'contains(maddeningly)': False, 'contains(corroborated)': False, 'contains(maiwenn)': False, 'contains(exterminators)': False, 'contains(reynold)': False, 'contains(marcy)': False, 'contains(swoosie)': False, 'contains(stack)': False, 'contains(stairs)': False, 'contains(carrying)': False, 'contains(acme)': False, 'contains(tahiti)': False, 'contains(petite)': False, 'contains(deformation)': False, 'contains(contemplates)': False, 'contains(publishing)': False, 'contains(macho)': False, 'contains(holnist)': False, 'contains(nutcracker)': False, 'contains(critique)': False, 'contains(vests)': False, 'contains(sickeningly)': False, 'contains(riders)': False, 'contains(proximo)': False, 'contains(rune)': False, 'contains(humpalot)': False, 'contains(clunkish)': False, 'contains(payne)': False, 'contains(mess)': False, 'contains(humorously)': False, 'contains(rolfe)': False, 'contains(corinthians)': False, 'contains(overdress)': False, 'contains(defiant)': False, 'contains(lightest)': False, 'contains(helpless)': False, 'contains(spared)': False, 'contains(niggles)': False, 'contains(gwyneth)': False, 'contains(chiba)': False, 'contains(comanche)': False, 'contains(undergone)': False, 'contains(remind)': False, 'contains(bozzio)': False, 'contains(keg)': False, 'contains(heaven)': False, 'contains(romanced)': False, 'contains(splotty)': False, 'contains(stations)': False, 'contains(gaelic)': False, 'contains(balmy)': False, 'contains(methodically)': False, 'contains(any)': False, 'contains(threefold)': False, 'contains(version)': False, 'contains(christine)': False, 'contains(misguided)': False, 'contains(pales)': False, 'contains(horndogs)': False, 'contains(appeasement)': False, 'contains(orton)': False, 'contains(patent)': False, 'contains(adorn)': False, 'contains(tbwp)': False, 'contains(occupies)': False, 'contains(handful)': False, 'contains(hilarious)': True, 'contains(plucks)': False, 'contains(uncorking)': False, 'contains(ashbrook)': False, 'contains(number)': False, 'contains(jailed)': False, 'contains(northeast)': False, 'contains(playground)': False, 'contains(linn)': False, 'contains(weitzman)': False, 'contains(exterminated)': False, 'contains(alibi)': False, 'contains(undergoing)': False, 'contains(rubble)': False, 'contains(schutze)': False, 'contains(51)': False, 'contains(adjacent)': False, 'contains(alex)': False, 'contains(strangles)': False, 'contains(moonlight)': False, 'contains(helming)': False, 'contains(churchill)': False, 'contains(yonkers)': False, 'contains(mentors)': False, 'contains(crooked)': False, 'contains(ilk)': False, 'contains(rolex)': False, 'contains(retracing)': False, 'contains(excitement)': False, 'contains(softener)': False, 'contains(plagued)': False, 'contains(thuggish)': False, 'contains(tykes)': False, 'contains(sways)': False, 'contains(gifted)': False, 'contains(fees)': False, 'contains(obliviousness)': False, 'contains(asides)': False, 'contains(princes)': False, 'contains(axel)': False, 'contains(pregnancy)': False, 'contains(berliner)': False, 'contains(1939)': False, 'contains(dekay)': False, 'contains(hyperkinetic)': False, 'contains(govenment)': False, 'contains(prophets)': False, 'contains(ceos)': False, 'contains(features)': True, 'contains(abduction)': False, 'contains(airborne)': False, 'contains(pollock)': False, 'contains(adored)': False, 'contains(navarro)': False, 'contains(kombat)': False, 'contains(coerced)': False, 'contains(1600)': False, 'contains(\\x05\\x05)': False, 'contains(timers)': False, 'contains(commie)': False, 'contains(enforcement)': False, 'contains(startling)': False, 'contains(hudreds)': False, 'contains(future)': False, 'contains(bickerman)': False, 'contains(patronized)': False, 'contains(demonstrating)': False, 'contains(wormwood)': False, 'contains(abdul)': False, 'contains(environmentally)': False, 'contains(troy)': False, 'contains(luchino)': False, 'contains(wynt)': False, 'contains(bloodlust)': False, 'contains(sobbing)': False, 'contains(tvs)': False, 'contains(crest)': False, 'contains(newer)': False, 'contains(alienbusting)': False, 'contains(recollections)': False, 'contains(davidovich)': False, 'contains(sodomy)': False, 'contains(moe)': False, 'contains(carribean)': False, 'contains(retrograding)': False, 'contains(subscribers)': False, 'contains(discriminating)': False, 'contains(unlikable)': False, 'contains(eva)': False, 'contains(zaniness)': False, 'contains(extremist)': False, 'contains(fallible)': False, 'contains(cashing)': False, 'contains(scream3)': False, 'contains(machineguns)': False, 'contains(naseeruddin)': False, 'contains(fondly)': False, 'contains(glitter)': False, 'contains(chisholm)': False, 'contains(checkout)': False, 'contains(effortlessly)': True, 'contains(urbanite)': False, 'contains(blackboard)': False, 'contains(byline)': False, 'contains(las)': False, 'contains(assist)': False, 'contains(paladru)': False, 'contains(checking)': False, 'contains(disown)': False, 'contains(burping)': False, 'contains(awakens)': False, 'contains(gadgetry)': False, 'contains(dern)': False, 'contains(stupidly)': False, 'contains(electromagnetic)': False, 'contains(katarina)': False, 'contains(gulia)': False, 'contains(root)': True, 'contains(prey)': False, 'contains(whips)': False, 'contains(primaries)': False, 'contains(mst3ked)': False, 'contains(wardrobes)': False, 'contains(contrastive)': False, 'contains(flatulence)': False, 'contains(hankie)': False, 'contains(mannerisms)': False, 'contains(hysterical)': False, 'contains(_all_)': False, 'contains(xusia)': False, 'contains(laforge)': False, 'contains(cam)': False, 'contains(motown)': False, 'contains(mayhew)': False, 'contains(shakespeare)': False, 'contains(laureates)': False, 'contains(conn)': False, 'contains(pandemonium)': False, 'contains(superstructures)': False, 'contains(nc17)': False, 'contains(kaufman)': False, 'contains(oavs)': False, 'contains(positively)': False, 'contains(missteps)': False, 'contains(freshness)': False, 'contains(lope)': False, 'contains(pronouncements)': False, 'contains(franklin)': False, 'contains(hallucinogenic)': False, 'contains(political)': False, 'contains(hijacked)': False, 'contains(emissions)': False, 'contains(whitlow)': False, 'contains(woof)': False, 'contains(taiwanese)': False, 'contains(farewell)': False, 'contains(resuce)': False, 'contains(coogan)': False, 'contains(bathes)': False, 'contains(seas)': False, 'contains(platonic)': False, 'contains(malaise)': False, 'contains(untangle)': False, 'contains(gallup)': False, 'contains(plaintive)': False, 'contains(att)': False, 'contains(caldicott)': False, 'contains(stretch)': False, 'contains(tuxedo)': False, 'contains(limps)': False, 'contains(idiot)': False, 'contains(janney)': False, 'contains(trillian)': False, 'contains(herskovitz)': False, 'contains(haddaway)': False, 'contains(animation)': False, 'contains(evacuated)': False, 'contains(sledgehammers)': False, 'contains(keough)': False, 'contains(ntsc)': False, 'contains(anyone)': False, 'contains(sitters)': False, 'contains(oversight)': False, 'contains(unthrilling)': False, 'contains(businesslike)': False, 'contains(macpherson)': False, 'contains(or)': False, 'contains(plans)': False, 'contains(stalk)': False, 'contains(spine)': False, 'contains(mirkine)': False, 'contains(appliance)': False, 'contains(boulevard)': False, 'contains(twitch)': False, 'contains(nearby)': False, 'contains(rolle)': False, 'contains(minors)': False, 'contains(lodging)': False, 'contains(brownie)': False, 'contains(overdosed)': False, 'contains(subtitles)': False, 'contains(coughlan)': False, 'contains(fullest)': False, 'contains(penleric)': False, 'contains(scratchy)': False, 'contains(interested)': False, 'contains(warton)': False, 'contains(exacerbated)': False, 'contains(pointy)': False, 'contains(shady)': False, 'contains(blame)': False, 'contains(good)': False, 'contains(store)': False, 'contains(psychedelia)': False, 'contains(grips)': False, 'contains(soulless)': False, 'contains(slept)': False, 'contains(nom)': False, 'contains(stiles)': False, 'contains(published)': False, 'contains(alchoholic)': False, 'contains(bleeds)': False, 'contains(wandered)': False, 'contains(surrogate)': False, 'contains(melrose)': False, 'contains(_the_lion_king)': False, 'contains(guttenberg)': False, 'contains(tomaso)': False, 'contains(caller)': False, 'contains(apprehended)': False, 'contains(ibsen)': False, 'contains(antonioni)': False, 'contains(--------------------)': False, 'contains(dourdan)': False, 'contains(included)': False, 'contains(cabaret)': False, 'contains(compass)': False, 'contains(stepsons)': False, 'contains(effectual)': False, 'contains(mingle)': False, 'contains(landings)': False, 'contains(crate)': False, 'contains(gonzales)': False, 'contains(sutherland)': False, 'contains(paragons)': False, 'contains(danes)': False, 'contains(bashed)': False, 'contains(tailspin)': False, 'contains(enticing)': False, 'contains(moreau)': False, 'contains(unidentified)': False, 'contains(bathtub)': False, 'contains(apartment)': False, 'contains(manhood)': False, 'contains(sympathise)': False, 'contains(abortions)': False, 'contains(entertainers)': False, 'contains(tickle)': False, 'contains(drafting)': False, 'contains(voyeuristically)': False, 'contains(morlocks)': False, 'contains(retalliation)': False, 'contains(veloz)': False, 'contains(quit)': False, 'contains(processes)': False, 'contains(stance)': False, 'contains(dairies)': False, 'contains(guinea)': False, 'contains(overachieving)': False, 'contains(amnesiac)': False, 'contains(audience)': False, 'contains(related)': True, 'contains(plauged)': False, 'contains(alchemy)': False, 'contains(retreads)': False, 'contains(token)': False, 'contains(intangible)': False, 'contains(involves)': True, 'contains(complainer)': False, 'contains(779)': False, 'contains(alcoholics)': False, 'contains(qu)': False, 'contains(conjugated)': False, 'contains(rebaptizes)': False, 'contains(spatter)': False, 'contains(giants)': False, 'contains(misfortune)': False, 'contains(voges)': False, 'contains(eszterhas)': False, 'contains(rediscover)': False, 'contains(luchini)': False, 'contains(tarlov)': False, 'contains(restroom)': False, 'contains(rittenhouse)': False, 'contains(vocals)': False, 'contains(enrich)': False, 'contains(spotting)': False, 'contains(trents)': False, 'contains(orignal)': False, 'contains(achieveing)': False, 'contains(ignites)': False, 'contains(flaxen)': False, 'contains(sacred)': False, 'contains(lost)': False, 'contains(sampson)': False, 'contains(worth)': True, 'contains(micromanaged)': False, 'contains(assination)': False, 'contains(unheard)': False, 'contains(rigors)': False, 'contains(gisbourne)': False, 'contains(zuko)': False, 'contains(maddy)': False, 'contains(thrusts)': False, 'contains(itchy)': False, 'contains(kristin)': False, 'contains(sneaky)': False, 'contains(introduction)': False, 'contains(ducks)': False, 'contains(casinos)': False, 'contains(matted)': False, 'contains(deepa)': False, 'contains(sparse)': False, 'contains(chemo)': False, 'contains(mcjob)': False, 'contains(holler)': False, 'contains(robby)': False, 'contains(shinohara)': False, 'contains(malice)': False, 'contains(graduate)': False, 'contains(scanned)': False, 'contains(revert)': False, 'contains(cries)': False, 'contains(gateway)': False, 'contains(scraped)': False, 'contains(betters)': False, 'contains(trilogy)': False, 'contains(glued)': False, 'contains(grapple)': False, 'contains(hucksters)': False, 'contains(ardently)': False, 'contains(bravely)': False, 'contains(personnel)': False, 'contains(blucas)': False, 'contains(wildest)': False, 'contains(spillane)': False, 'contains(oozed)': False, 'contains(predictions)': False, 'contains(warring)': False, 'contains(literally)': False, 'contains(wasn)': False, 'contains(unrated)': False, 'contains(happens)': False, 'contains(wordsmith)': False, 'contains(cartoonish)': False, 'contains(amongst)': False, 'contains(wither)': False, 'contains(caffrey)': False, 'contains(receiveth)': False, 'contains(hauser)': False, 'contains(contingent)': False, 'contains(1942)': False, 'contains(averse)': False, 'contains(cyborsuit)': False, 'contains(measurement)': False, 'contains(conjugal)': False, 'contains(trumpeter)': False, 'contains(garber)': False, 'contains(glassy)': False, 'contains(novelty)': False, 'contains(nowadays)': False, 'contains(sterotypes)': False, 'contains(decked)': False, 'contains(signficance)': False, 'contains(gailard)': False, 'contains(invisible)': False, 'contains(totoro)': False, 'contains(impersonal)': False, 'contains(gnawing)': False, 'contains(noah)': False, 'contains(koren)': False, 'contains(katrin)': False, 'contains(aplenty)': False, 'contains(beelzebub)': False, 'contains(schemes)': False, 'contains(cincinnati)': False, 'contains(murilo)': False, 'contains(holographic)': False, 'contains(muddled)': False, 'contains(unequivocal)': False, 'contains(talker)': False, 'contains(wag)': False, 'contains(reluctant)': False, 'contains(trekkers)': False, 'contains(ullmann)': False, 'contains(artificially)': False, 'contains(stoops)': False, 'contains(2010)': False, 'contains(pretensions)': False, 'contains(eyeball)': False, 'contains(confessions)': False, 'contains(password)': False, 'contains(3000)': False, 'contains(_titanic_)': False, 'contains(farmer)': False, 'contains(figured)': False, 'contains(haise)': False, 'contains(shoes)': False, 'contains(barrage)': False, 'contains(rectangle)': False, 'contains(renault)': False, 'contains(fancies)': False, 'contains(hermosa)': False, 'contains(del)': False, 'contains(code)': False, 'contains(incognita)': False, 'contains(pastoral)': False, 'contains(corman)': False, 'contains(redgrave)': False, 'contains(mosaic)': False, 'contains(15)': False, 'contains(minivan)': False, 'contains(excrucitating)': False, 'contains(vandernoot)': False, 'contains(ogled)': False, 'contains(discerning)': False, 'contains(pesimism)': False, 'contains(eliel)': False, 'contains(heterosexual)': False, 'contains(lassie)': False, 'contains(smorgasbord)': False, 'contains(barber)': False, 'contains(meditating)': False, 'contains(advertised)': False, 'contains(absolute)': False, 'contains(kazdan)': False, 'contains(slickers)': False, 'contains(spectacles)': False, 'contains(paralleled)': False, 'contains(shag)': False, 'contains(you)': True, 'contains(cranberries)': False, 'contains(clerks)': False, 'contains(trailer)': False, 'contains(1912)': False, 'contains(fanfare)': False, 'contains(mulroney)': False, 'contains(1839)': False, 'contains(buton)': False, 'contains(trekked)': False, 'contains(unredeemable)': False, 'contains(commence)': False, 'contains(hasn)': False, 'contains(snidley)': False, 'contains(outdoes)': False, 'contains(seal)': False, 'contains(untapped)': False, 'contains(herald)': False, 'contains(concocts)': False, 'contains(accelerating)': False, 'contains(danvers)': False, 'contains(protectionist)': False, 'contains(offstage)': False, 'contains(dysfunctional)': False, 'contains(immeadiately)': False, 'contains(disgraceful)': False, 'contains(purest)': False, 'contains(viciousness)': False, 'contains(cartridges)': False, 'contains(psychologist)': False, 'contains(nicotine)': False, 'contains(bolstered)': False, 'contains(germ)': False, 'contains(janitorial)': False, 'contains(diseases)': False, 'contains(playset)': False, 'contains(taran)': False, 'contains(tish)': False, 'contains(contraception)': False, 'contains(guzman)': False, 'contains(selection)': False, 'contains(fumes)': False, 'contains(deprecating)': False, 'contains(sufism)': False, 'contains(hammering)': False, 'contains(pumpkin)': False, 'contains(drubbing)': False, 'contains(journeying)': False, 'contains(infer)': False, 'contains(dither)': False, 'contains(mosey)': False, 'contains(mustang)': False, 'contains(dubbed)': False, 'contains(asexual)': False, 'contains(beverly)': False, 'contains(receive)': False, 'contains(eschews)': False, 'contains(frozen)': False, 'contains(process)': False, 'contains(showbusiness)': False, 'contains(dormant)': False, 'contains(okay)': False, 'contains(morsel)': False, 'contains(nuez)': False, 'contains(colqhoun)': False, 'contains(scarier)': False, 'contains(charged)': False, 'contains(exacly)': False, 'contains(weeping)': False, 'contains(bracken)': False, 'contains(proposal)': False, 'contains(weepie)': False, 'contains(anney)': False, 'contains(mulcahy)': False, 'contains(youth)': False, 'contains(prentice)': False, 'contains(pllllleeeeease)': False, 'contains(cleave)': False, 'contains(slip)': False, 'contains(starbuck)': False, 'contains(took)': False, 'contains(all)': True, 'contains(eleveate)': False, 'contains(aurelius)': False, 'contains(enlistment)': False, 'contains(85but)': False, 'contains(gi)': False, 'contains(airport)': False, 'contains(won92t)': False, 'contains(violates)': False, 'contains(divorcing)': False, 'contains(gigantic)': False, 'contains(josu)': False, 'contains(topicality)': False, 'contains(stockwell)': False, 'contains(goldbergesque)': False, 'contains(transit)': False, 'contains(painless)': False, 'contains(nunn)': False, 'contains(ax)': False, 'contains(wenteworth)': False, 'contains(kinkiness)': False, 'contains(exterminator)': False, 'contains(boasts)': False, 'contains(motionlessly)': False, 'contains(ratcliffe)': False, 'contains(vacuous)': False, 'contains(constricted)': False, 'contains(deposited)': False, 'contains(branch)': False, 'contains(brainers)': False, 'contains(tavoularis)': False, 'contains(evilo)': False, 'contains(virginity)': False, 'contains(balding)': False, 'contains(1830s)': False, 'contains(clich)': False, 'contains(patrolman)': False, 'contains(pen)': False, 'contains(whammy)': False, 'contains(bleaches)': False, 'contains(chabat)': False, 'contains(acrobats)': False, 'contains(ranting)': False, 'contains(paperbacks)': False, 'contains(spew)': False, 'contains(stoppable)': False, 'contains(immortalised)': False, 'contains(animals)': False, 'contains(abbott)': False, 'contains(corny)': False, 'contains(recommends)': False, 'contains(spiritualist)': False, 'contains(cherished)': False, 'contains(fascism)': False, 'contains(fosse)': False, 'contains(mckenna)': False, 'contains(married)': False, 'contains(negligible)': False, 'contains(demons)': False, 'contains(pep)': False, 'contains(bartender)': False, 'contains(kicked)': False, 'contains(policemen)': False, 'contains(jai)': False, 'contains(2015)': False, 'contains(fehmiu)': False, 'contains(unannounced)': False, 'contains(animosity)': False, 'contains(school)': False, 'contains(widmark)': False, 'contains(didya)': False, 'contains(patching)': False, 'contains(cheeked)': False, 'contains(wherein)': False, 'contains(stolen)': False, 'contains(oafish)': False, 'contains(teasers)': False, 'contains(helpfully)': False, 'contains(wig)': False, 'contains(darwinism)': False, 'contains(unstable)': False, 'contains(unown)': False, 'contains(cruella)': False, 'contains(catastrophic)': False, 'contains(impregnated)': False, 'contains(brandon)': False, 'contains(ravel)': False, 'contains(wences)': False, 'contains(apprehend)': False, 'contains(levy)': False, 'contains(teller)': False, 'contains(reveling)': False, 'contains(marridge)': False, 'contains(columnist)': False, 'contains(turtles)': False, 'contains(royce)': False, 'contains(cont)': False, 'contains(dispatch)': False, 'contains(attuned)': False, 'contains(rumbles)': False, 'contains(layla)': False, 'contains(favourites)': False, 'contains(boiling)': False, 'contains(hinges)': False, 'contains(tuesday)': False, 'contains(conductor)': False, 'contains(dammit)': False, 'contains(trails)': False, 'contains(perfomances)': False, 'contains(at)': False, 'contains(twig)': False, 'contains(efficent)': False, 'contains(regalia)': False, 'contains(wade)': False, 'contains(objectives)': False, 'contains(schoolish)': False, 'contains(westridge)': False, 'contains(hunters)': False, 'contains(ghoulishness)': False, 'contains(kick)': False, 'contains(banjo)': False, 'contains(chummy)': False, 'contains(defenses)': False, 'contains(wrench)': False, 'contains(sulk)': False, 'contains(wc)': False, 'contains(mafia)': False, 'contains(wilford)': False, 'contains(attempting)': False, 'contains(friday)': False, 'contains(hole)': False, 'contains(mailman)': False, 'contains(fanaticism)': False, 'contains(rydell)': False, 'contains(sergio)': False, 'contains(flits)': False, 'contains(hospitality)': False, 'contains(hypocrites)': False, 'contains(committal)': False, 'contains(dwarfism)': False, 'contains(sketchbook)': False, 'contains(appearance)': False, 'contains(zips)': False, 'contains(sector)': False, 'contains(competently)': False, 'contains(starkly)': False, 'contains(bumper)': False, 'contains(global)': False, 'contains(scots)': False, 'contains(mcgovern)': False, 'contains(stoker)': False, 'contains(transsexual)': False, 'contains(intersect)': False, 'contains(expanding)': False, 'contains(nurses)': False, 'contains(pi)': False, 'contains(booted)': False, 'contains(sprinkle)': False, 'contains(ping)': False, 'contains(thankful)': False, 'contains(supervision)': False, 'contains(assasinate)': False, 'contains(lesra)': False, 'contains(stout)': False, 'contains(orient)': False, 'contains(tobacco)': False, 'contains(cronfronting)': False, 'contains(premieres)': False, 'contains(picks)': False, 'contains(lake)': False, 'contains(taxing)': False, 'contains(aldous)': False, 'contains(elegaic)': False, 'contains(committing)': False, 'contains(detested)': False, 'contains(pathetic)': False, 'contains(fenster)': False, 'contains(kidnap)': False, 'contains(penis)': False, 'contains(hearted)': False, 'contains(elfman)': False, 'contains(detriment)': False, 'contains(stimulates)': False, 'contains(miami)': False, 'contains(razzle)': False, 'contains(guileless)': False, 'contains(snook)': False, 'contains(lawyer)': False, 'contains(vernier)': False, 'contains(piza)': False, 'contains(pitches)': False, 'contains(reinspired)': False, 'contains(submarines)': False, 'contains(numero)': False, 'contains(deftness)': False, 'contains(lugubrious)': False, 'contains(prosaic)': False, 'contains(inseperable)': False, 'contains(treetop)': False, 'contains(ridicule)': False, 'contains(consanguinity)': False, 'contains(staking)': False, 'contains(reteaming)': False, 'contains(coarser)': False, 'contains(recitals)': False, 'contains(draped)': False, 'contains(murdered)': False, 'contains(cleverness)': False, 'contains(workweek)': False, 'contains(fanny)': False, 'contains(creepers)': False, 'contains(psychedelic)': False, 'contains(macnamara)': False, 'contains(worrall)': False, 'contains(gimmick)': False, 'contains(darnedness)': False, 'contains(corporation)': False, 'contains(socialite)': False, 'contains(_moby)': False, 'contains(haysbert)': False, 'contains(asswhole)': False, 'contains(attribute)': False, 'contains(appearances)': False, 'contains(disengaging)': False, 'contains(mandible)': False, 'contains(kingpins)': False, 'contains(inflicting)': False, 'contains(esque)': False, 'contains(ren)': False, 'contains(rahad)': False, 'contains(displacement)': False, 'contains(elina)': False, 'contains(barstool)': False, 'contains(umpire)': False, 'contains(disastorous)': False, 'contains(typewriters)': False, 'contains(corporeal)': False, 'contains(jolly)': False, 'contains(arthurian)': False, 'contains(officers)': False, 'contains(occupation)': False, 'contains(pierre)': False, 'contains(taj)': False, 'contains(seeing)': True, 'contains(tossable)': False, 'contains(comprehendible)': False, 'contains(invariably)': False, 'contains(skips)': False, 'contains(harden)': False, 'contains(documentary)': False, 'contains(convulsions)': False, 'contains(looms)': False, 'contains(corks)': False, 'contains(republic)': False, 'contains(reviewer)': False, 'contains(alloy)': False, 'contains(this)': True, 'contains(ambassador)': False, 'contains(grounding)': False, 'contains(ideologies)': False, 'contains(counselor)': False, 'contains(thicker)': False, 'contains(skating)': False, 'contains(highlander)': False, 'contains(bias)': False, 'contains(base)': False, 'contains(illiteracy)': False, 'contains(screamed)': False, 'contains(congresswoman)': False, 'contains(seedy)': False, 'contains(angelic)': False, 'contains(whoop)': False, 'contains(weary)': False, 'contains(valencia)': False, 'contains(stepping)': False, 'contains(risque)': False, 'contains(emma)': False, 'contains(alluring)': False, 'contains(icebergs)': False, 'contains(jelly)': False, 'contains(arne)': False, 'contains(innovations)': False, 'contains(hogan)': False, 'contains(carwash)': False, 'contains(receives)': False, 'contains(sitting)': False, 'contains(bordertown)': False, 'contains(wealth)': False, 'contains(tingwell)': False, 'contains(prevents)': False, 'contains(woods)': False, 'contains(analee)': False, 'contains(puberty)': False, 'contains(spicebus)': False, 'contains(schreiber)': False, 'contains(cady)': False, 'contains(discotheque)': False, 'contains(disapproved)': False, 'contains(dreaming)': False, 'contains(robes)': False, 'contains(rationale)': False, 'contains(wendkos)': False, 'contains(posta)': False, 'contains(speedily)': False, 'contains(vonnegut)': False, 'contains(chisselled)': False, 'contains(clumsily)': False, 'contains(exclaims)': False, 'contains(ghoulish)': False, 'contains(snippets)': False, 'contains(insiders)': False, 'contains(chockfull)': False, 'contains(88)': False, 'contains(koufax)': False, 'contains(rarely)': False, 'contains(frantically)': False, 'contains(cardiac)': False, 'contains(solmenly)': False, 'contains(wilderness)': False, 'contains(fervently)': False, 'contains(courtesy)': False, 'contains(fingerprint)': False, 'contains(himselfs)': False, 'contains(coincidental)': False, 'contains(chortled)': False, 'contains(dance)': False, 'contains(standing)': True, 'contains(valkyries)': False, 'contains(tinge)': False, 'contains(flawlessly)': False, 'contains(examinations)': False, 'contains(hairpiece)': False, 'contains(garafalo)': False, 'contains(hanover)': False, 'contains(jumpers)': False, 'contains(neutralize)': False, 'contains(morrow)': False, 'contains(tswsm)': False, 'contains(ck)': False, 'contains(january)': False, 'contains(bring)': False, 'contains(vampy)': False, 'contains(sniveling)': False, 'contains(doors)': False, 'contains(including)': False, 'contains(ludwig)': False, 'contains(traitor)': False, 'contains(relatives)': False, 'contains(augmented)': False, 'contains(pretentiously)': False, 'contains(boardroom)': False, 'contains(proctor)': False, 'contains(unsuitable)': False, 'contains(craggy)': False, 'contains(intermingle)': False, 'contains(speculation)': False, 'contains(h2k)': False, 'contains(avoided)': False, 'contains(cameraman)': False, 'contains(overflows)': False, 'contains(ramshackle)': False, 'contains(loops)': False, 'contains(skew)': False, 'contains(cityscapes)': False, 'contains(shrasta)': False, 'contains(flippers)': False, 'contains(penalosa)': False, 'contains(taglines)': False, 'contains(treaty)': False, 'contains(spiritedly)': False, 'contains(strike)': False, 'contains(nguyen)': False, 'contains(attired)': False, 'contains(dauntingly)': False, 'contains(listed)': False, 'contains(fingernail)': False, 'contains(passover)': False, 'contains(28)': False, 'contains(payroll)': False, 'contains(shea)': False, 'contains(benicio)': False, 'contains(hirst)': False, 'contains(alfred)': False, 'contains(arming)': False, 'contains(begs)': False, 'contains(dislocation)': False, 'contains(elimination)': False, 'contains(nicknamed)': False, 'contains(affluent)': False, 'contains(saim)': False, 'contains(workplaces)': False, 'contains(wayans)': False, 'contains(getting)': True, 'contains(cracked)': False, 'contains(dumber)': False, 'contains(coy)': False, 'contains(tiffany)': False, 'contains(butchers)': False, 'contains(directive)': False, 'contains(stiller)': False, 'contains(luckless)': False, 'contains(inundation)': False, 'contains(tiranny)': False, 'contains(sympathies)': False, 'contains(sender)': False, 'contains(impassive)': False, 'contains(certain)': False, 'contains(piano)': False, 'contains(gusty)': False, 'contains(hammy)': False, 'contains(vulnerable)': False, 'contains(fingers)': False, 'contains(blaze)': False, 'contains(risqueness)': False, 'contains(electrician)': False, 'contains(democratic)': False, 'contains(jeez)': False, 'contains(misanthropy)': False, 'contains(grodin)': False, 'contains(competency)': False, 'contains(visualization)': False, 'contains(authoritive)': False, 'contains(floris)': False, 'contains(foreclosure)': False, 'contains(wolfgang)': False, 'contains(cagily)': False, 'contains(bravo)': False, 'contains(crooning)': False, 'contains(dilemma)': False, 'contains(grassroots)': False, 'contains(abberline)': False, 'contains(theoreticians)': False, 'contains(earth)': False, 'contains(condition)': False, 'contains(theft)': False, 'contains(haig)': False, 'contains(purports)': False, 'contains(ambushes)': False, 'contains(humourous)': False, 'contains(cakes)': False, 'contains(unfinished)': False, 'contains(continuing)': False, 'contains(rosio)': False, 'contains(tamahori)': False, 'contains(interesting)': False, 'contains(tremor)': False, 'contains(pacify)': False, 'contains(17th)': False, 'contains(madyline)': False, 'contains(enwrapped)': False, 'contains(investment)': False, 'contains(nighshift)': False, 'contains(severe)': False, 'contains(travellers)': False, 'contains(embarrass)': False, 'contains(raining)': False, 'contains(thomsen)': False, 'contains(sweeten)': False, 'contains(hooves)': False, 'contains(shades)': False, 'contains(ashe)': False, 'contains(uprisings)': False, 'contains(resumes)': False, 'contains(emphasising)': False, 'contains(ketchum)': False, 'contains(suarez)': False, 'contains(critter)': False, 'contains(tibet)': False, 'contains(results)': False, 'contains(lender)': False, 'contains(bronx)': False, 'contains(troubles)': False, 'contains(behaviors)': False, 'contains(empowerment)': False, 'contains(trinity)': False, 'contains(missus)': False, 'contains(lew)': False, 'contains(storytelling)': False, 'contains(mcdermott)': False, 'contains(shepard)': False, 'contains(segregation)': False, 'contains(whoops)': False, 'contains(proper)': False, 'contains(traumatized)': False, 'contains(irving)': False, 'contains(sort)': False, 'contains(gossamer)': False, 'contains(drag)': False, 'contains(annie)': False, 'contains(cinemas)': False, 'contains(surprise)': False, 'contains(_urban)': False, 'contains(extremeties)': False, 'contains(unimitible)': False, 'contains(functioning)': False, 'contains(anecdotal)': False, 'contains(exley)': False, 'contains(philadephia)': False, 'contains(federico)': False, 'contains(mercury)': False, 'contains(teri)': False, 'contains(unrepentantly)': False, 'contains(telekinesis)': False, 'contains(tactile)': False, 'contains(glorifying)': False, 'contains(physically)': False, 'contains(perceptively)': False, 'contains(claymation)': False, 'contains(searchlight)': False, 'contains(cauterizes)': False, 'contains(available)': False, 'contains(pantolianto)': False, 'contains(someplace)': False, 'contains(polti)': False, 'contains(begging)': False, 'contains(hitching)': False, 'contains(charlton)': False, 'contains(gawain)': False, 'contains(nova)': False, 'contains(marlon)': False, 'contains(plotted)': False, 'contains(sociopathic)': False, 'contains(triumvirate)': False, 'contains(forecaster)': False, 'contains(wachowskis)': False, 'contains(crummy)': False, 'contains(replaced)': False, 'contains(delve)': False, 'contains(richelieu)': False, 'contains(plaguing)': False, 'contains(cathedrals)': False, 'contains(bathing)': False, 'contains(hero)': False, 'contains(rendering)': False, 'contains(alda)': False, 'contains(rib)': False, 'contains(portions)': False, 'contains(strangulation)': False, 'contains(se7en)': False, 'contains(theresa)': False, 'contains(extinguished)': False, 'contains(caraciture)': False, 'contains(detach)': False, 'contains(psychlos)': False, 'contains(plagues)': False, 'contains(cocker)': False, 'contains(sparked)': False, 'contains(ibenez)': False, 'contains(terrance)': False, 'contains(penance)': False, 'contains(mission)': False, 'contains(freshman)': False, 'contains(singe)': False, 'contains(abrahams)': False, 'contains(provides)': False, 'contains(fenn)': False, 'contains(psyched)': False, 'contains(panamanian)': False, 'contains(})': False, 'contains(carolina)': False, 'contains(borgnine)': False, 'contains(pint)': False, 'contains(psychopath)': False, 'contains(fluidly)': False, 'contains(invokes)': False, 'contains(karla)': False, 'contains(bless)': False, 'contains(lautrec)': False, 'contains(damaging)': False, 'contains(platt)': False, 'contains(incredulity)': False, 'contains(rewrite)': False, 'contains(ilsa)': False, 'contains(unmade)': False, 'contains(raines)': False, 'contains(iranian)': False, 'contains(wretched)': False, 'contains(elaboration)': False, 'contains(infact)': False, 'contains(modeling)': False, 'contains(predates)': False, 'contains(worshipping)': False, 'contains(scamper)': False, 'contains(irreverence)': False, 'contains(spinoff)': False, 'contains(rotunno)': False, 'contains(commercialist)': False, 'contains(slither)': False, 'contains(demotion)': False, 'contains(cronos)': False, 'contains(bennet)': False, 'contains(billers)': False, 'contains(crevasse)': False, 'contains(motherfucker)': False, 'contains(nihilist)': False, 'contains(rollers)': False, 'contains(filing)': False, 'contains(staining)': False, 'contains(potenza)': False, 'contains(pits)': False, 'contains(jess)': False, 'contains(misbegotten)': False, 'contains(bronze)': False, 'contains(aux)': False, 'contains(777)': False, 'contains(sorvino)': False, 'contains(homemaker)': False, 'contains(unfounded)': False, 'contains(tendancy)': False, 'contains(restfulness)': False, 'contains(dollar)': False, 'contains(conceiving)': False, 'contains(cinemax)': False, 'contains(disection)': False, 'contains(roomie)': False, 'contains(anymore)': False, 'contains(lipnicki)': False, 'contains(astounded)': False, 'contains(motive)': False, 'contains(rampages)': False, 'contains(traffiking)': False, 'contains(proud)': False, 'contains(sandals)': False, 'contains(riddick)': False, 'contains(12th)': False, 'contains(brendan)': False, 'contains(bailing)': False, 'contains(compromise)': False, 'contains(deconstructed)': False, 'contains(amen)': False, 'contains(vivona)': False, 'contains(interned)': False, 'contains(succession)': False, 'contains(prepares)': False, 'contains(couteney)': False, 'contains(strife)': False, 'contains(subjecting)': False, 'contains(candidate)': False, 'contains(outpourings)': False, 'contains(novelization)': False, 'contains(initally)': False, 'contains(filial)': False, 'contains(crow)': False, 'contains(matsumoto)': False, 'contains(seated)': False, 'contains(theological)': False, 'contains(padua)': False, 'contains(afforded)': False, 'contains(ghibli)': False, 'contains(neighbours)': False, 'contains(darling)': False, 'contains(brute)': False, 'contains(cruel)': False, 'contains(markedly)': False, 'contains(burnout)': False, 'contains(mark)': False, 'contains(bareikis)': False, 'contains(nicholas)': False, 'contains(association)': False, 'contains(_last_)': False, 'contains(drawl)': False, 'contains(badalamenti)': False, 'contains(newsreel)': False, 'contains(tertiary)': False, 'contains(reasonable)': False, 'contains(relocates)': False, 'contains(zippel)': False, 'contains(payed)': False, 'contains(comedy)': True, 'contains(chidduck)': False, 'contains(fires)': False, 'contains(downturn)': False, 'contains(burwell)': False, 'contains(dogtags)': False, 'contains(exited)': False, 'contains(stray)': False, 'contains(travelled)': False, 'contains(homophobic)': False, 'contains(tonight)': False, 'contains(colonization)': False, 'contains(obscurities)': False, 'contains(correctional)': False, 'contains(canet)': False, 'contains(funari)': False, 'contains(franz)': False, 'contains(hired)': False, 'contains(proprietor)': False, 'contains(dreamquest)': False, 'contains(tate)': False, 'contains(impressively)': False, 'contains(checks)': False, 'contains(polite)': False, 'contains(scouts)': False, 'contains(ww2)': False, 'contains(harries)': False, 'contains(juxtaposition)': False, 'contains(retaining)': False, 'contains(1996)': False, 'contains(refreshingly)': False, 'contains(eminently)': False, 'contains(chimes)': False, 'contains(oppression)': False, 'contains(knockin)': False, 'contains(dalmantions)': False, 'contains(seahaven)': False, 'contains(expect)': False, 'contains(activities)': False, 'contains(defanged)': False, 'contains(accustomed)': False, 'contains(luedeke)': False, 'contains(brash)': False, 'contains(supervising)': False, 'contains(hinky)': False, 'contains(caraccio)': False, 'contains(findings)': False, 'contains(cheerful)': False, 'contains(consoles)': False, 'contains(rastafarians)': False, 'contains(oath)': False, 'contains(varela)': False, 'contains(foregin)': False, 'contains(misdeed)': False, 'contains(disciplined)': False, 'contains(plexiglas)': False, 'contains(spelling)': False, 'contains(hashing)': False, 'contains(surf)': False, 'contains(contorted)': False, 'contains(hensley)': False, 'contains(harry)': False, 'contains(fall)': False, 'contains(goode)': False, 'contains(shatner)': False, 'contains(attributed)': False, 'contains(nsync)': False, 'contains(tacitly)': False, 'contains(previously)': False, 'contains(congratulations)': False, 'contains(bret)': False, 'contains(snap)': False, 'contains(manufacturer)': False, 'contains(schmancy)': False, 'contains(ransom)': False, 'contains(joys)': False, 'contains(earned)': False, 'contains(placed)': False, 'contains(ravell)': False, 'contains(increase)': False, 'contains(unwelcomed)': False, 'contains(remedy)': False, 'contains(sprint)': False, 'contains(goth)': False, 'contains(enjoying)': False, 'contains(trot)': False, 'contains(slung)': False, 'contains(visitation)': False, 'contains(options)': False, 'contains(grapevine)': False, 'contains(holstering)': False, 'contains(blurry)': False, 'contains(adversary)': False, 'contains(riots)': False, 'contains(choreography)': False, 'contains(newsradio)': False, 'contains(blade)': False, 'contains(aa)': False, 'contains(girlina)': False, 'contains(discreetly)': False, 'contains(rhythmic)': False, 'contains(savoy)': False, 'contains(scientist)': False, 'contains(organism)': False, 'contains(glossed)': False, 'contains(expediency)': False, 'contains(trapped)': False, 'contains(francisco)': False, 'contains(stomped)': False, 'contains(enthusiasts)': False, 'contains(blazin)': False, 'contains(apologies)': False, 'contains(reinforced)': False, 'contains(precipice)': False, 'contains(revolver)': False, 'contains(unethical)': False, 'contains(feared)': False, 'contains(likely)': False, 'contains(leprechaun)': False, 'contains(destitute)': False, 'contains(vessels)': False, 'contains(unspooling)': False, 'contains(fictions)': False, 'contains(endurance)': False, 'contains(sherrie)': False, 'contains(preciously)': False, 'contains(sects)': False, 'contains(puns)': False, 'contains(bathed)': False, 'contains(747s)': False, 'contains(lilly)': False, 'contains(leverage)': False, 'contains(charmingly)': False, 'contains(trailing)': False, 'contains(chokes)': False, 'contains(melodic)': False, 'contains(blessedly)': False, 'contains(negates)': False, 'contains(elna)': False, 'contains(barest)': False, 'contains(slashing)': False, 'contains(beebe)': False, 'contains(creators)': False, 'contains(peels)': False, 'contains(copland)': False, 'contains(bannen)': False, 'contains(rainforest)': False, 'contains(affiliate)': False, 'contains(heartfelt)': False, 'contains(92t)': False, 'contains(mccallum)': False, 'contains(rapidly)': False, 'contains(booty)': False, 'contains(current)': False, 'contains(donaldson)': False, 'contains(awkward)': False, 'contains(sumptuous)': False, 'contains(distance)': False, 'contains(belabored)': False, 'contains(campion)': False, 'contains(chu)': False, 'contains(eggert)': False, 'contains(_flirting)': False, 'contains(spare)': False, 'contains(dukas)': False, 'contains(instigated)': False, 'contains(inception)': False, 'contains(christof)': False, 'contains(ivey)': False, 'contains(yesterday)': False, 'contains(dress)': False, 'contains(warda)': False, 'contains(roam)': False, 'contains(jumps)': False, 'contains(frightened)': False, 'contains(collected)': False, 'contains(erupting)': False, 'contains(bloomfield)': False, 'contains(caravan)': False, 'contains(tantor)': False, 'contains(arts)': False, 'contains(leisurely)': False, 'contains(belays)': False, 'contains(uno)': False, 'contains(percentage)': False, 'contains(folded)': False, 'contains(elitist)': False, 'contains(1978)': False, 'contains(illeana)': False, 'contains(invisibility)': False, 'contains(similarity)': False, 'contains(christy)': False, 'contains(hanksian)': False, 'contains(edmund)': False, 'contains(rife)': False, 'contains(criminals)': False, 'contains(treill)': False, 'contains(loyality)': False, 'contains(unlock)': False, 'contains(finfer)': False, 'contains(sacramento)': False, 'contains(aggie)': False, 'contains(parallelism)': False, 'contains(nikos)': False, 'contains(chubby)': False, 'contains(vantage)': False, 'contains(gamblers)': False, 'contains(kramer)': False, 'contains(insubstantial)': False, 'contains(parallax)': False, 'contains(ny)': False, 'contains(debney)': False, 'contains(anemic)': False, 'contains(twisty)': False, 'contains(boastful)': False, 'contains(santo)': False, 'contains(1962)': False, 'contains(hunks)': False, 'contains(eluded)': False, 'contains(hooray)': False, 'contains(exorcise)': False, 'contains(dateless)': False, 'contains(barrel)': False, 'contains(claiborne)': False, 'contains(gang)': False, 'contains(mykelti)': False, 'contains(uplifting)': False, 'contains(lou)': False, 'contains(enthrall)': False, 'contains(platitudes)': False, 'contains(curtail)': False, 'contains(coup)': False, 'contains(brecklin)': False, 'contains(picked)': False, 'contains(totemic)': False, 'contains(rediculous)': False, 'contains(75)': False, 'contains(looting)': False, 'contains(beautician)': False, 'contains(couplehood)': False, 'contains(odessa)': False, 'contains(kombat_)': False, 'contains(uneasiness)': False, 'contains(intensive)': False, 'contains(trese)': False, 'contains(siphoned)': False, 'contains(adventures)': False, 'contains(fitting)': False, 'contains(sabara)': False, 'contains(dispense)': False, 'contains(palm)': False, 'contains(amply)': False, 'contains(allocate)': False, 'contains(ingen)': False, 'contains(lit)': False, 'contains(kev)': False, 'contains(riffing)': False, 'contains(id)': False, 'contains(abroad)': False, 'contains(resurrection)': False, 'contains(relic)': False, 'contains(scalper)': False, 'contains(racial)': False, 'contains(soderbergh)': False, 'contains(seeker)': False}\n"
     ]
    }
   ],
   "source": [
    "print (document_features(movie_reviews.words('pos/cv957_8737.txt')))"
   ]
  },
  {
   "cell_type": "code",
   "execution_count": 26,
   "metadata": {
    "collapsed": true
   },
   "outputs": [],
   "source": [
    "featuresets = [(document_features(d), c) for (d,c) in documents]\n",
    "train_set, test_set = featuresets[100:], featuresets[:100]\n",
    "classifier = nltk.NaiveBayesClassifier.train(train_set)"
   ]
  },
  {
   "cell_type": "code",
   "execution_count": 27,
   "metadata": {
    "collapsed": false
   },
   "outputs": [
    {
     "name": "stdout",
     "output_type": "stream",
     "text": [
      "0.64\n"
     ]
    }
   ],
   "source": [
    "print (nltk.classify.accuracy(classifier, test_set))"
   ]
  },
  {
   "cell_type": "code",
   "execution_count": 28,
   "metadata": {
    "collapsed": false
   },
   "outputs": [
    {
     "name": "stdout",
     "output_type": "stream",
     "text": [
      "Most Informative Features\n",
      "          contains(slip) = True              pos : neg    =     11.8 : 1.0\n",
      "          contains(3000) = True              neg : pos    =     10.9 : 1.0\n",
      "     contains(uplifting) = True              pos : neg    =      8.7 : 1.0\n",
      "  contains(refreshingly) = True              pos : neg    =      8.4 : 1.0\n",
      "      contains(reminder) = True              pos : neg    =      8.4 : 1.0\n",
      "      contains(republic) = True              pos : neg    =      6.4 : 1.0\n",
      "     contains(pregnancy) = True              neg : pos    =      6.3 : 1.0\n",
      "        contains(kombat) = True              neg : pos    =      6.3 : 1.0\n",
      "         contains(flynt) = True              pos : neg    =      5.7 : 1.0\n",
      "          contains(noah) = True              pos : neg    =      5.7 : 1.0\n"
     ]
    }
   ],
   "source": [
    "classifier.show_most_informative_features(10)"
   ]
  },
  {
   "cell_type": "code",
   "execution_count": 29,
   "metadata": {
    "collapsed": false
   },
   "outputs": [],
   "source": [
    "from nltk.corpus import brown\n",
    "suffix_fdist = nltk.FreqDist()\n",
    "for word in brown.words():\n",
    "    word = word.lower()\n",
    "    suffix_fdist[word[-1:]]+=1\n",
    "    suffix_fdist[word[-2:]]+=1\n",
    "    suffix_fdist[word[-3:]]+=1"
   ]
  },
  {
   "cell_type": "code",
   "execution_count": 30,
   "metadata": {
    "collapsed": false
   },
   "outputs": [],
   "source": [
    "common_suffixes = [suffix for (suffix, count) in suffix_fdist.most_common(100)]"
   ]
  },
  {
   "cell_type": "code",
   "execution_count": 31,
   "metadata": {
    "collapsed": false
   },
   "outputs": [
    {
     "name": "stdout",
     "output_type": "stream",
     "text": [
      "['e', ',', '.', 's', 'd', 't', 'he', 'n', 'a', 'of', 'the', 'y', 'r', 'to', 'in', 'f', 'o', 'ed', 'nd', 'is', 'on', 'l', 'g', 'and', 'ng', 'er', 'as', 'ing', 'h', 'at', 'es', 'or', 're', 'it', '``', 'an', \"''\", 'm', ';', 'i', 'ly', 'ion', 'en', 'al', '?', 'nt', 'be', 'hat', 'st', 'his', 'th', 'll', 'le', 'ce', 'by', 'ts', 'me', 've', \"'\", 'se', 'ut', 'was', 'for', 'ent', 'ch', 'k', 'w', 'ld', '`', 'rs', 'ted', 'ere', 'her', 'ne', 'ns', 'ith', 'ad', 'ry', ')', '(', 'te', '--', 'ay', 'ty', 'ot', 'p', 'nce', \"'s\", 'ter', 'om', 'ss', ':', 'we', 'are', 'c', 'ers', 'uld', 'had', 'so', 'ey']\n"
     ]
    }
   ],
   "source": [
    "print (common_suffixes)"
   ]
  },
  {
   "cell_type": "code",
   "execution_count": 32,
   "metadata": {
    "collapsed": false
   },
   "outputs": [],
   "source": [
    "def pos_features(word):\n",
    "    features = {}\n",
    "    for suffix in common_suffixes:\n",
    "        features['endswith({})'.format(suffix)] = word.lower().endswith(suffix)\n",
    "\n",
    "    return features"
   ]
  },
  {
   "cell_type": "code",
   "execution_count": 33,
   "metadata": {
    "collapsed": false
   },
   "outputs": [],
   "source": [
    "tagged_words = brown.tagged_words(categories='news')\n",
    "featuresets = [(pos_features(n), g) for (n,g) in tagged_words]"
   ]
  },
  {
   "cell_type": "code",
   "execution_count": 34,
   "metadata": {
    "collapsed": true
   },
   "outputs": [],
   "source": [
    "size = int(len(featuresets) * 0.1)\n",
    "train_set, test_set = featuresets[size:], featuresets[:size]"
   ]
  },
  {
   "cell_type": "code",
   "execution_count": 35,
   "metadata": {
    "collapsed": false
   },
   "outputs": [
    {
     "data": {
      "text/plain": [
       "0.6270512182993535"
      ]
     },
     "execution_count": 35,
     "metadata": {},
     "output_type": "execute_result"
    }
   ],
   "source": [
    "classifier = nltk.DecisionTreeClassifier.train(train_set)\n",
    "nltk.classify.accuracy(classifier, test_set)"
   ]
  },
  {
   "cell_type": "code",
   "execution_count": 36,
   "metadata": {
    "collapsed": false
   },
   "outputs": [
    {
     "data": {
      "text/plain": [
       "'NNS'"
      ]
     },
     "execution_count": 36,
     "metadata": {},
     "output_type": "execute_result"
    }
   ],
   "source": [
    "classifier.classify(pos_features('cats'))"
   ]
  },
  {
   "cell_type": "code",
   "execution_count": 37,
   "metadata": {
    "collapsed": false
   },
   "outputs": [
    {
     "name": "stdout",
     "output_type": "stream",
     "text": [
      "if endswith(the) == False: \n",
      "  if endswith(,) == False: \n",
      "    if endswith(s) == False: \n",
      "      if endswith(.) == False: return '.'\n",
      "      if endswith(.) == True: return '.'\n",
      "    if endswith(s) == True: \n",
      "      if endswith(is) == False: return 'PP$'\n",
      "      if endswith(is) == True: return 'BEZ'\n",
      "  if endswith(,) == True: return ','\n",
      "if endswith(the) == True: return 'AT'\n",
      "\n"
     ]
    }
   ],
   "source": [
    "print (classifier.pseudocode(depth=4))"
   ]
  },
  {
   "cell_type": "code",
   "execution_count": 38,
   "metadata": {
    "collapsed": false
   },
   "outputs": [],
   "source": [
    "def pos_features(sentence, i):\n",
    "    features = {\"suffix(1)\": sentence[i][-1:],\n",
    "                \"suffix(2)\": sentence[i][-2:],\n",
    "                \"suffix(3)\": sentence[i][-3:]}\n",
    "    if i == 0:\n",
    "        features[\"prev-word\"] = \"<START>\"\n",
    "    else:\n",
    "        features[\"prev-word\"] = sentence[i-1]\n",
    "\n",
    "    return features"
   ]
  },
  {
   "cell_type": "code",
   "execution_count": 39,
   "metadata": {
    "collapsed": false
   },
   "outputs": [
    {
     "data": {
      "text/plain": [
       "{'prev-word': 'an', 'suffix(1)': 'n', 'suffix(2)': 'on', 'suffix(3)': 'ion'}"
      ]
     },
     "execution_count": 39,
     "metadata": {},
     "output_type": "execute_result"
    }
   ],
   "source": [
    "pos_features(brown.sents()[0], 8)"
   ]
  },
  {
   "cell_type": "code",
   "execution_count": 40,
   "metadata": {
    "collapsed": true
   },
   "outputs": [],
   "source": [
    "tagged_sents = brown.tagged_sents(categories='news')\n",
    "featuresets = []"
   ]
  },
  {
   "cell_type": "code",
   "execution_count": 41,
   "metadata": {
    "collapsed": true
   },
   "outputs": [],
   "source": [
    "for tagged_sent in tagged_sents:\n",
    "    untagged_sent = nltk.tag.untag(tagged_sent)\n",
    "    for i, (word, tag) in enumerate(tagged_sent):\n",
    "        featuresets.append((pos_features(untagged_sent, i), tag) )"
   ]
  },
  {
   "cell_type": "code",
   "execution_count": 42,
   "metadata": {
    "collapsed": false
   },
   "outputs": [
    {
     "data": {
      "text/plain": [
       "0.7891596220785678"
      ]
     },
     "execution_count": 42,
     "metadata": {},
     "output_type": "execute_result"
    }
   ],
   "source": [
    "size = int(len(featuresets) * 0.1)\n",
    "train_set, test_set = featuresets[size:], featuresets[:size]\n",
    "classifier = nltk.NaiveBayesClassifier.train(train_set)\n",
    "nltk.classify.accuracy(classifier, test_set)"
   ]
  },
  {
   "cell_type": "code",
   "execution_count": 43,
   "metadata": {
    "collapsed": false
   },
   "outputs": [],
   "source": [
    "def pos_features(sentence, i, history):\n",
    "    features = {\"suffix(1)\": sentence[i][-1:],\n",
    "                \"suffix(2)\": sentence[i][-2:],\n",
    "                \"suffix(3)\": sentence[i][-3:]}\n",
    "    if i == 0:\n",
    "        features[\"prev-word\"] = \"<START>\"\n",
    "        features[\"prev-tag\"] = \"<START>\"\n",
    "    else:\n",
    "        features[\"prev-word\"] = sentence[i-1]\n",
    "        features[\"prev-tag\"] = history[i-1]\n",
    "    return features\n",
    "\n",
    "class ConsecutivePosTagger(nltk.TaggerI):\n",
    "\n",
    "    def __init__(self, train_sents):\n",
    "        train_set = []\n",
    "        for tagged_sent in train_sents:\n",
    "            untagged_sent = nltk.tag.untag(tagged_sent)\n",
    "            history = []\n",
    "            for i, (word, tag) in enumerate(tagged_sent):\n",
    "                featureset = pos_features(untagged_sent, i, history)\n",
    "                train_set.append( (featureset, tag) )\n",
    "                history.append(tag)\n",
    "        self.classifier = nltk.NaiveBayesClassifier.train(train_set)\n",
    "\n",
    "    def tag(self, sentence):\n",
    "        history = []\n",
    "        for i, word in enumerate(sentence):\n",
    "            featureset = pos_features(sentence, i, history)\n",
    "            tag = self.classifier.classify(featureset)\n",
    "            history.append(tag)\n",
    "        return zip(sentence, history)"
   ]
  },
  {
   "cell_type": "code",
   "execution_count": 44,
   "metadata": {
    "collapsed": false
   },
   "outputs": [
    {
     "name": "stdout",
     "output_type": "stream",
     "text": [
      "0.7980528511821975\n"
     ]
    }
   ],
   "source": [
    "tagged_sents = brown.tagged_sents(categories='news')\n",
    "size = int(len(tagged_sents) * 0.1)\n",
    "train_sents, test_sents = tagged_sents[size:], tagged_sents[:size]\n",
    "tagger = ConsecutivePosTagger(train_sents)\n",
    "print(tagger.evaluate(test_sents))"
   ]
  },
  {
   "cell_type": "markdown",
   "metadata": {},
   "source": [
    "## 6.2 Further Examples of Supervised Classification"
   ]
  },
  {
   "cell_type": "code",
   "execution_count": 45,
   "metadata": {
    "collapsed": true
   },
   "outputs": [],
   "source": [
    "sents = nltk.corpus.treebank_raw.sents()\n",
    "tokens = []\n",
    "boundaries = set()\n",
    "offset = 0\n",
    "for sent in sents:\n",
    "    tokens.extend(sent)\n",
    "    offset += len(sent)\n",
    "    boundaries.add(offset-1)"
   ]
  },
  {
   "cell_type": "code",
   "execution_count": 46,
   "metadata": {
    "collapsed": true
   },
   "outputs": [],
   "source": [
    "def punct_features(tokens, i):\n",
    "    return {'next-word-capitalized': tokens[i+1][0].isupper(),\n",
    "            'prev-word': tokens[i-1].lower(),\n",
    "            'punct': tokens[i],\n",
    "            'prev-word-is-one-char': len(tokens[i-1]) == 1}"
   ]
  },
  {
   "cell_type": "code",
   "execution_count": 47,
   "metadata": {
    "collapsed": true
   },
   "outputs": [],
   "source": [
    "featuresets = [(punct_features(tokens, i), (i in boundaries))\n",
    "               for i in range(1, len(tokens)-1)\n",
    "               if tokens[i] in '.?!']"
   ]
  },
  {
   "cell_type": "code",
   "execution_count": 48,
   "metadata": {
    "collapsed": false
   },
   "outputs": [
    {
     "data": {
      "text/plain": [
       "0.936026936026936"
      ]
     },
     "execution_count": 48,
     "metadata": {},
     "output_type": "execute_result"
    }
   ],
   "source": [
    "size = int(len(featuresets) * 0.1)\n",
    "train_set, test_set = featuresets[size:], featuresets[:size]\n",
    "classifier = nltk.NaiveBayesClassifier.train(train_set)\n",
    "nltk.classify.accuracy(classifier, test_set)"
   ]
  },
  {
   "cell_type": "code",
   "execution_count": 49,
   "metadata": {
    "collapsed": true
   },
   "outputs": [],
   "source": [
    "def segment_sentences(words):\n",
    "    start = 0\n",
    "    sents = []\n",
    "    for i, word in enumerate(words):\n",
    "        if word in '.?!' and classifier.classify(punct_features(words, i)) == True:\n",
    "            sents.append(words[start:i+1])\n",
    "            start = i+1\n",
    "    if start < len(words):\n",
    "        sents.append(words[start:])\n",
    "    return sents"
   ]
  },
  {
   "cell_type": "code",
   "execution_count": 50,
   "metadata": {
    "collapsed": true
   },
   "outputs": [],
   "source": [
    "posts = nltk.corpus.nps_chat.xml_posts()[:10000]"
   ]
  },
  {
   "cell_type": "code",
   "execution_count": 51,
   "metadata": {
    "collapsed": true
   },
   "outputs": [],
   "source": [
    "def dialogue_act_features(post):\n",
    "    features = {}\n",
    "    for word in nltk.word_tokenize(post):\n",
    "        features['contains({})'.format(word.lower())] = True\n",
    "    return features"
   ]
  },
  {
   "cell_type": "code",
   "execution_count": 52,
   "metadata": {
    "collapsed": false
   },
   "outputs": [
    {
     "name": "stdout",
     "output_type": "stream",
     "text": [
      "0.668\n"
     ]
    }
   ],
   "source": [
    "featuresets = [(dialogue_act_features(post.text), post.get('class'))\n",
    "               for post in posts]\n",
    "size = int(len(featuresets) * 0.1)\n",
    "train_set, test_set = featuresets[size:], featuresets[:size]\n",
    "classifier = nltk.NaiveBayesClassifier.train(train_set)\n",
    "print(nltk.classify.accuracy(classifier, test_set))"
   ]
  },
  {
   "cell_type": "code",
   "execution_count": 53,
   "metadata": {
    "collapsed": true
   },
   "outputs": [],
   "source": [
    "def rte_features(rtepair):\n",
    "    extractor = nltk.RTEFeatureExtractor(rtepair)\n",
    "    features = {}\n",
    "    features['word_overlap'] = len(extractor.overlap('word'))\n",
    "    features['word_hyp_extra'] = len(extractor.hyp_extra('word'))\n",
    "    features['ne_overlap'] = len(extractor.overlap('ne'))\n",
    "    features['ne_hyp_extra'] = len(extractor.hyp_extra('ne'))\n",
    "    return features"
   ]
  },
  {
   "cell_type": "code",
   "execution_count": 54,
   "metadata": {
    "collapsed": false
   },
   "outputs": [
    {
     "name": "stdout",
     "output_type": "stream",
     "text": [
      "{'Russia', 'terrorism.', 'binds', 'operation', 'former', 'Soviet', 'fledgling', 'fight', 'Davudi', 'Co', 'four', 'Parviz', 'that', 'meeting', 'Organisation', 'China', 'association', 'together', 'Asia', 'was', 'central', 'Shanghai', 'representing', 'republics', 'SCO', 'at', 'Iran'}\n"
     ]
    }
   ],
   "source": [
    "rtepair = nltk.corpus.rte.pairs(['rte3_dev.xml'])[33]\n",
    "extractor = nltk.RTEFeatureExtractor(rtepair)\n",
    "print(extractor.text_words)"
   ]
  },
  {
   "cell_type": "code",
   "execution_count": 55,
   "metadata": {
    "collapsed": false
   },
   "outputs": [
    {
     "name": "stdout",
     "output_type": "stream",
     "text": [
      "{'member', 'China', 'SCO.'}\n"
     ]
    }
   ],
   "source": [
    "print(extractor.hyp_words)"
   ]
  },
  {
   "cell_type": "code",
   "execution_count": 56,
   "metadata": {
    "collapsed": false
   },
   "outputs": [
    {
     "name": "stdout",
     "output_type": "stream",
     "text": [
      "set()\n"
     ]
    }
   ],
   "source": [
    "print(extractor.overlap('word'))"
   ]
  },
  {
   "cell_type": "code",
   "execution_count": 57,
   "metadata": {
    "collapsed": false
   },
   "outputs": [
    {
     "name": "stdout",
     "output_type": "stream",
     "text": [
      "{'China'}\n"
     ]
    }
   ],
   "source": [
    "print(extractor.overlap('ne'))"
   ]
  },
  {
   "cell_type": "code",
   "execution_count": 58,
   "metadata": {
    "collapsed": false
   },
   "outputs": [
    {
     "name": "stdout",
     "output_type": "stream",
     "text": [
      "{'member'}\n"
     ]
    }
   ],
   "source": [
    "print(extractor.hyp_extra('word'))"
   ]
  },
  {
   "cell_type": "markdown",
   "metadata": {},
   "source": [
    "## 6.3 Evaluation"
   ]
  },
  {
   "cell_type": "code",
   "execution_count": 59,
   "metadata": {
    "collapsed": true
   },
   "outputs": [],
   "source": [
    "import random\n",
    "from nltk.corpus import brown"
   ]
  },
  {
   "cell_type": "code",
   "execution_count": 60,
   "metadata": {
    "collapsed": true
   },
   "outputs": [],
   "source": [
    "tagged_sents = list(brown.tagged_sents(categories='news'))\n",
    "random.shuffle(tagged_sents)\n",
    "size = int(len(tagged_sents) * 0.1)\n",
    "train_set, test_set = tagged_sents[size:], tagged_sents[:size]"
   ]
  },
  {
   "cell_type": "code",
   "execution_count": 61,
   "metadata": {
    "collapsed": false
   },
   "outputs": [
    {
     "data": {
      "text/plain": [
       "[('Meanwhile', 'RB'),\n",
       " (',', ','),\n",
       " ('there', 'EX'),\n",
       " ('appears', 'VBZ'),\n",
       " ('to', 'TO'),\n",
       " ('be', 'BE'),\n",
       " ('enough', 'AP'),\n",
       " ('money', 'NN'),\n",
       " ('in', 'IN'),\n",
       " ('the', 'AT'),\n",
       " (\"road's\", 'NN$'),\n",
       " ('reserve', 'NN'),\n",
       " ('fund', 'NN'),\n",
       " ('to', 'TO'),\n",
       " ('cover', 'VB'),\n",
       " ('the', 'AT'),\n",
       " ('interest', 'NN'),\n",
       " ('deficiency', 'NN'),\n",
       " ('for', 'IN'),\n",
       " ('eight', 'CD'),\n",
       " ('more', 'AP'),\n",
       " ('years', 'NNS'),\n",
       " ('.', '.')]"
      ]
     },
     "execution_count": 61,
     "metadata": {},
     "output_type": "execute_result"
    }
   ],
   "source": [
    "tagged_sents[0]"
   ]
  },
  {
   "cell_type": "code",
   "execution_count": 62,
   "metadata": {
    "collapsed": false
   },
   "outputs": [
    {
     "ename": "ValueError",
     "evalue": "too many values to unpack (expected 2)",
     "output_type": "error",
     "traceback": [
      "\u001b[0;31m---------------------------------------------------------------------------\u001b[0m",
      "\u001b[0;31mValueError\u001b[0m                                Traceback (most recent call last)",
      "\u001b[0;32m<ipython-input-62-915c1c6dfc6c>\u001b[0m in \u001b[0;36m<module>\u001b[0;34m()\u001b[0m\n\u001b[0;32m----> 1\u001b[0;31m \u001b[0mclassifier\u001b[0m \u001b[0;34m=\u001b[0m \u001b[0mnltk\u001b[0m\u001b[0;34m.\u001b[0m\u001b[0mNaiveBayesClassifier\u001b[0m\u001b[0;34m.\u001b[0m\u001b[0mtrain\u001b[0m\u001b[0;34m(\u001b[0m\u001b[0mtrain_set\u001b[0m\u001b[0;34m)\u001b[0m\u001b[0;34m\u001b[0m\u001b[0m\n\u001b[0m",
      "\u001b[0;32m/pub/anaconda3/lib/python3.5/site-packages/nltk/classify/naivebayes.py\u001b[0m in \u001b[0;36mtrain\u001b[0;34m(cls, labeled_featuresets, estimator)\u001b[0m\n\u001b[1;32m    192\u001b[0m         \u001b[0;31m# Count up how many times each feature value occurred, given\u001b[0m\u001b[0;34m\u001b[0m\u001b[0;34m\u001b[0m\u001b[0m\n\u001b[1;32m    193\u001b[0m         \u001b[0;31m# the label and featurename.\u001b[0m\u001b[0;34m\u001b[0m\u001b[0;34m\u001b[0m\u001b[0m\n\u001b[0;32m--> 194\u001b[0;31m         \u001b[0;32mfor\u001b[0m \u001b[0mfeatureset\u001b[0m\u001b[0;34m,\u001b[0m \u001b[0mlabel\u001b[0m \u001b[0;32min\u001b[0m \u001b[0mlabeled_featuresets\u001b[0m\u001b[0;34m:\u001b[0m\u001b[0;34m\u001b[0m\u001b[0m\n\u001b[0m\u001b[1;32m    195\u001b[0m             \u001b[0mlabel_freqdist\u001b[0m\u001b[0;34m[\u001b[0m\u001b[0mlabel\u001b[0m\u001b[0;34m]\u001b[0m \u001b[0;34m+=\u001b[0m \u001b[0;36m1\u001b[0m\u001b[0;34m\u001b[0m\u001b[0m\n\u001b[1;32m    196\u001b[0m             \u001b[0;32mfor\u001b[0m \u001b[0mfname\u001b[0m\u001b[0;34m,\u001b[0m \u001b[0mfval\u001b[0m \u001b[0;32min\u001b[0m \u001b[0mfeatureset\u001b[0m\u001b[0;34m.\u001b[0m\u001b[0mitems\u001b[0m\u001b[0;34m(\u001b[0m\u001b[0;34m)\u001b[0m\u001b[0;34m:\u001b[0m\u001b[0;34m\u001b[0m\u001b[0m\n",
      "\u001b[0;31mValueError\u001b[0m: too many values to unpack (expected 2)"
     ]
    }
   ],
   "source": [
    "classifier = nltk.NaiveBayesClassifier.train(train_set)"
   ]
  },
  {
   "cell_type": "code",
   "execution_count": 63,
   "metadata": {
    "collapsed": false
   },
   "outputs": [
    {
     "ename": "ValueError",
     "evalue": "too many values to unpack (expected 2)",
     "output_type": "error",
     "traceback": [
      "\u001b[0;31m---------------------------------------------------------------------------\u001b[0m",
      "\u001b[0;31mValueError\u001b[0m                                Traceback (most recent call last)",
      "\u001b[0;32m<ipython-input-63-71797716bedd>\u001b[0m in \u001b[0;36m<module>\u001b[0;34m()\u001b[0m\n\u001b[0;32m----> 1\u001b[0;31m \u001b[0mprint\u001b[0m\u001b[0;34m(\u001b[0m\u001b[0;34m'Accuracy: {:4.2f}'\u001b[0m\u001b[0;34m.\u001b[0m\u001b[0mformat\u001b[0m\u001b[0;34m(\u001b[0m\u001b[0mnltk\u001b[0m\u001b[0;34m.\u001b[0m\u001b[0mclassify\u001b[0m\u001b[0;34m.\u001b[0m\u001b[0maccuracy\u001b[0m\u001b[0;34m(\u001b[0m\u001b[0mclassifier\u001b[0m\u001b[0;34m,\u001b[0m \u001b[0mtest_set\u001b[0m\u001b[0;34m)\u001b[0m\u001b[0;34m)\u001b[0m\u001b[0;34m)\u001b[0m\u001b[0;34m\u001b[0m\u001b[0m\n\u001b[0m",
      "\u001b[0;32m/pub/anaconda3/lib/python3.5/site-packages/nltk/classify/util.py\u001b[0m in \u001b[0;36maccuracy\u001b[0;34m(classifier, gold)\u001b[0m\n\u001b[1;32m     85\u001b[0m \u001b[0;34m\u001b[0m\u001b[0m\n\u001b[1;32m     86\u001b[0m \u001b[0;32mdef\u001b[0m \u001b[0maccuracy\u001b[0m\u001b[0;34m(\u001b[0m\u001b[0mclassifier\u001b[0m\u001b[0;34m,\u001b[0m \u001b[0mgold\u001b[0m\u001b[0;34m)\u001b[0m\u001b[0;34m:\u001b[0m\u001b[0;34m\u001b[0m\u001b[0m\n\u001b[0;32m---> 87\u001b[0;31m     \u001b[0mresults\u001b[0m \u001b[0;34m=\u001b[0m \u001b[0mclassifier\u001b[0m\u001b[0;34m.\u001b[0m\u001b[0mclassify_many\u001b[0m\u001b[0;34m(\u001b[0m\u001b[0;34m[\u001b[0m\u001b[0mfs\u001b[0m \u001b[0;32mfor\u001b[0m \u001b[0;34m(\u001b[0m\u001b[0mfs\u001b[0m\u001b[0;34m,\u001b[0m \u001b[0ml\u001b[0m\u001b[0;34m)\u001b[0m \u001b[0;32min\u001b[0m \u001b[0mgold\u001b[0m\u001b[0;34m]\u001b[0m\u001b[0;34m)\u001b[0m\u001b[0;34m\u001b[0m\u001b[0m\n\u001b[0m\u001b[1;32m     88\u001b[0m     \u001b[0mcorrect\u001b[0m \u001b[0;34m=\u001b[0m \u001b[0;34m[\u001b[0m\u001b[0ml\u001b[0m \u001b[0;34m==\u001b[0m \u001b[0mr\u001b[0m \u001b[0;32mfor\u001b[0m \u001b[0;34m(\u001b[0m\u001b[0;34m(\u001b[0m\u001b[0mfs\u001b[0m\u001b[0;34m,\u001b[0m \u001b[0ml\u001b[0m\u001b[0;34m)\u001b[0m\u001b[0;34m,\u001b[0m \u001b[0mr\u001b[0m\u001b[0;34m)\u001b[0m \u001b[0;32min\u001b[0m \u001b[0mzip\u001b[0m\u001b[0;34m(\u001b[0m\u001b[0mgold\u001b[0m\u001b[0;34m,\u001b[0m \u001b[0mresults\u001b[0m\u001b[0;34m)\u001b[0m\u001b[0;34m]\u001b[0m\u001b[0;34m\u001b[0m\u001b[0m\n\u001b[1;32m     89\u001b[0m     \u001b[0;32mif\u001b[0m \u001b[0mcorrect\u001b[0m\u001b[0;34m:\u001b[0m\u001b[0;34m\u001b[0m\u001b[0m\n",
      "\u001b[0;32m/pub/anaconda3/lib/python3.5/site-packages/nltk/classify/util.py\u001b[0m in \u001b[0;36m<listcomp>\u001b[0;34m(.0)\u001b[0m\n\u001b[1;32m     85\u001b[0m \u001b[0;34m\u001b[0m\u001b[0m\n\u001b[1;32m     86\u001b[0m \u001b[0;32mdef\u001b[0m \u001b[0maccuracy\u001b[0m\u001b[0;34m(\u001b[0m\u001b[0mclassifier\u001b[0m\u001b[0;34m,\u001b[0m \u001b[0mgold\u001b[0m\u001b[0;34m)\u001b[0m\u001b[0;34m:\u001b[0m\u001b[0;34m\u001b[0m\u001b[0m\n\u001b[0;32m---> 87\u001b[0;31m     \u001b[0mresults\u001b[0m \u001b[0;34m=\u001b[0m \u001b[0mclassifier\u001b[0m\u001b[0;34m.\u001b[0m\u001b[0mclassify_many\u001b[0m\u001b[0;34m(\u001b[0m\u001b[0;34m[\u001b[0m\u001b[0mfs\u001b[0m \u001b[0;32mfor\u001b[0m \u001b[0;34m(\u001b[0m\u001b[0mfs\u001b[0m\u001b[0;34m,\u001b[0m \u001b[0ml\u001b[0m\u001b[0;34m)\u001b[0m \u001b[0;32min\u001b[0m \u001b[0mgold\u001b[0m\u001b[0;34m]\u001b[0m\u001b[0;34m)\u001b[0m\u001b[0;34m\u001b[0m\u001b[0m\n\u001b[0m\u001b[1;32m     88\u001b[0m     \u001b[0mcorrect\u001b[0m \u001b[0;34m=\u001b[0m \u001b[0;34m[\u001b[0m\u001b[0ml\u001b[0m \u001b[0;34m==\u001b[0m \u001b[0mr\u001b[0m \u001b[0;32mfor\u001b[0m \u001b[0;34m(\u001b[0m\u001b[0;34m(\u001b[0m\u001b[0mfs\u001b[0m\u001b[0;34m,\u001b[0m \u001b[0ml\u001b[0m\u001b[0;34m)\u001b[0m\u001b[0;34m,\u001b[0m \u001b[0mr\u001b[0m\u001b[0;34m)\u001b[0m \u001b[0;32min\u001b[0m \u001b[0mzip\u001b[0m\u001b[0;34m(\u001b[0m\u001b[0mgold\u001b[0m\u001b[0;34m,\u001b[0m \u001b[0mresults\u001b[0m\u001b[0;34m)\u001b[0m\u001b[0;34m]\u001b[0m\u001b[0;34m\u001b[0m\u001b[0m\n\u001b[1;32m     89\u001b[0m     \u001b[0;32mif\u001b[0m \u001b[0mcorrect\u001b[0m\u001b[0;34m:\u001b[0m\u001b[0;34m\u001b[0m\u001b[0m\n",
      "\u001b[0;31mValueError\u001b[0m: too many values to unpack (expected 2)"
     ]
    }
   ],
   "source": [
    "print('Accuracy: {:4.2f}'.format(nltk.classify.accuracy(classifier, test_set))) "
   ]
  },
  {
   "cell_type": "code",
   "execution_count": 64,
   "metadata": {
    "collapsed": true
   },
   "outputs": [],
   "source": [
    "file_ids = brown.fileids(categories='news')\n",
    "size = int(len(file_ids) * 0.1)\n",
    "train_set = brown.tagged_sents(file_ids[size:])\n",
    "test_set = brown.tagged_sents(file_ids[:size])"
   ]
  },
  {
   "cell_type": "code",
   "execution_count": 65,
   "metadata": {
    "collapsed": false
   },
   "outputs": [
    {
     "ename": "ValueError",
     "evalue": "too many values to unpack (expected 2)",
     "output_type": "error",
     "traceback": [
      "\u001b[0;31m---------------------------------------------------------------------------\u001b[0m",
      "\u001b[0;31mValueError\u001b[0m                                Traceback (most recent call last)",
      "\u001b[0;32m<ipython-input-65-04cf3a71aa50>\u001b[0m in \u001b[0;36m<module>\u001b[0;34m()\u001b[0m\n\u001b[0;32m----> 1\u001b[0;31m \u001b[0mclassifier\u001b[0m \u001b[0;34m=\u001b[0m \u001b[0mnltk\u001b[0m\u001b[0;34m.\u001b[0m\u001b[0mNaiveBayesClassifier\u001b[0m\u001b[0;34m.\u001b[0m\u001b[0mtrain\u001b[0m\u001b[0;34m(\u001b[0m\u001b[0mtrain_set\u001b[0m\u001b[0;34m)\u001b[0m\u001b[0;34m\u001b[0m\u001b[0m\n\u001b[0m\u001b[1;32m      2\u001b[0m \u001b[0mprint\u001b[0m\u001b[0;34m(\u001b[0m\u001b[0;34m'Accuracy: {:4.2f}'\u001b[0m\u001b[0;34m.\u001b[0m\u001b[0mformat\u001b[0m\u001b[0;34m(\u001b[0m\u001b[0mnltk\u001b[0m\u001b[0;34m.\u001b[0m\u001b[0mclassify\u001b[0m\u001b[0;34m.\u001b[0m\u001b[0maccuracy\u001b[0m\u001b[0;34m(\u001b[0m\u001b[0mclassifier\u001b[0m\u001b[0;34m,\u001b[0m \u001b[0mtest_set\u001b[0m\u001b[0;34m)\u001b[0m\u001b[0;34m)\u001b[0m\u001b[0;34m)\u001b[0m\u001b[0;34m\u001b[0m\u001b[0m\n",
      "\u001b[0;32m/pub/anaconda3/lib/python3.5/site-packages/nltk/classify/naivebayes.py\u001b[0m in \u001b[0;36mtrain\u001b[0;34m(cls, labeled_featuresets, estimator)\u001b[0m\n\u001b[1;32m    192\u001b[0m         \u001b[0;31m# Count up how many times each feature value occurred, given\u001b[0m\u001b[0;34m\u001b[0m\u001b[0;34m\u001b[0m\u001b[0m\n\u001b[1;32m    193\u001b[0m         \u001b[0;31m# the label and featurename.\u001b[0m\u001b[0;34m\u001b[0m\u001b[0;34m\u001b[0m\u001b[0m\n\u001b[0;32m--> 194\u001b[0;31m         \u001b[0;32mfor\u001b[0m \u001b[0mfeatureset\u001b[0m\u001b[0;34m,\u001b[0m \u001b[0mlabel\u001b[0m \u001b[0;32min\u001b[0m \u001b[0mlabeled_featuresets\u001b[0m\u001b[0;34m:\u001b[0m\u001b[0;34m\u001b[0m\u001b[0m\n\u001b[0m\u001b[1;32m    195\u001b[0m             \u001b[0mlabel_freqdist\u001b[0m\u001b[0;34m[\u001b[0m\u001b[0mlabel\u001b[0m\u001b[0;34m]\u001b[0m \u001b[0;34m+=\u001b[0m \u001b[0;36m1\u001b[0m\u001b[0;34m\u001b[0m\u001b[0m\n\u001b[1;32m    196\u001b[0m             \u001b[0;32mfor\u001b[0m \u001b[0mfname\u001b[0m\u001b[0;34m,\u001b[0m \u001b[0mfval\u001b[0m \u001b[0;32min\u001b[0m \u001b[0mfeatureset\u001b[0m\u001b[0;34m.\u001b[0m\u001b[0mitems\u001b[0m\u001b[0;34m(\u001b[0m\u001b[0;34m)\u001b[0m\u001b[0;34m:\u001b[0m\u001b[0;34m\u001b[0m\u001b[0m\n",
      "\u001b[0;31mValueError\u001b[0m: too many values to unpack (expected 2)"
     ]
    }
   ],
   "source": [
    "classifier = nltk.NaiveBayesClassifier.train(train_set) \n",
    "print('Accuracy: {:4.2f}'.format(nltk.classify.accuracy(classifier, test_set))) "
   ]
  },
  {
   "cell_type": "code",
   "execution_count": 66,
   "metadata": {
    "collapsed": true
   },
   "outputs": [],
   "source": [
    "train_set = brown.tagged_sents(categories='news')\n",
    "test_set = brown.tagged_sents(categories='fiction')"
   ]
  },
  {
   "cell_type": "code",
   "execution_count": 67,
   "metadata": {
    "collapsed": false
   },
   "outputs": [
    {
     "ename": "ValueError",
     "evalue": "too many values to unpack (expected 2)",
     "output_type": "error",
     "traceback": [
      "\u001b[0;31m---------------------------------------------------------------------------\u001b[0m",
      "\u001b[0;31mValueError\u001b[0m                                Traceback (most recent call last)",
      "\u001b[0;32m<ipython-input-67-04cf3a71aa50>\u001b[0m in \u001b[0;36m<module>\u001b[0;34m()\u001b[0m\n\u001b[0;32m----> 1\u001b[0;31m \u001b[0mclassifier\u001b[0m \u001b[0;34m=\u001b[0m \u001b[0mnltk\u001b[0m\u001b[0;34m.\u001b[0m\u001b[0mNaiveBayesClassifier\u001b[0m\u001b[0;34m.\u001b[0m\u001b[0mtrain\u001b[0m\u001b[0;34m(\u001b[0m\u001b[0mtrain_set\u001b[0m\u001b[0;34m)\u001b[0m\u001b[0;34m\u001b[0m\u001b[0m\n\u001b[0m\u001b[1;32m      2\u001b[0m \u001b[0mprint\u001b[0m\u001b[0;34m(\u001b[0m\u001b[0;34m'Accuracy: {:4.2f}'\u001b[0m\u001b[0;34m.\u001b[0m\u001b[0mformat\u001b[0m\u001b[0;34m(\u001b[0m\u001b[0mnltk\u001b[0m\u001b[0;34m.\u001b[0m\u001b[0mclassify\u001b[0m\u001b[0;34m.\u001b[0m\u001b[0maccuracy\u001b[0m\u001b[0;34m(\u001b[0m\u001b[0mclassifier\u001b[0m\u001b[0;34m,\u001b[0m \u001b[0mtest_set\u001b[0m\u001b[0;34m)\u001b[0m\u001b[0;34m)\u001b[0m\u001b[0;34m)\u001b[0m\u001b[0;34m\u001b[0m\u001b[0m\n",
      "\u001b[0;32m/pub/anaconda3/lib/python3.5/site-packages/nltk/classify/naivebayes.py\u001b[0m in \u001b[0;36mtrain\u001b[0;34m(cls, labeled_featuresets, estimator)\u001b[0m\n\u001b[1;32m    192\u001b[0m         \u001b[0;31m# Count up how many times each feature value occurred, given\u001b[0m\u001b[0;34m\u001b[0m\u001b[0;34m\u001b[0m\u001b[0m\n\u001b[1;32m    193\u001b[0m         \u001b[0;31m# the label and featurename.\u001b[0m\u001b[0;34m\u001b[0m\u001b[0;34m\u001b[0m\u001b[0m\n\u001b[0;32m--> 194\u001b[0;31m         \u001b[0;32mfor\u001b[0m \u001b[0mfeatureset\u001b[0m\u001b[0;34m,\u001b[0m \u001b[0mlabel\u001b[0m \u001b[0;32min\u001b[0m \u001b[0mlabeled_featuresets\u001b[0m\u001b[0;34m:\u001b[0m\u001b[0;34m\u001b[0m\u001b[0m\n\u001b[0m\u001b[1;32m    195\u001b[0m             \u001b[0mlabel_freqdist\u001b[0m\u001b[0;34m[\u001b[0m\u001b[0mlabel\u001b[0m\u001b[0;34m]\u001b[0m \u001b[0;34m+=\u001b[0m \u001b[0;36m1\u001b[0m\u001b[0;34m\u001b[0m\u001b[0m\n\u001b[1;32m    196\u001b[0m             \u001b[0;32mfor\u001b[0m \u001b[0mfname\u001b[0m\u001b[0;34m,\u001b[0m \u001b[0mfval\u001b[0m \u001b[0;32min\u001b[0m \u001b[0mfeatureset\u001b[0m\u001b[0;34m.\u001b[0m\u001b[0mitems\u001b[0m\u001b[0;34m(\u001b[0m\u001b[0;34m)\u001b[0m\u001b[0;34m:\u001b[0m\u001b[0;34m\u001b[0m\u001b[0m\n",
      "\u001b[0;31mValueError\u001b[0m: too many values to unpack (expected 2)"
     ]
    }
   ],
   "source": [
    "classifier = nltk.NaiveBayesClassifier.train(train_set) \n",
    "print('Accuracy: {:4.2f}'.format(nltk.classify.accuracy(classifier, test_set))) "
   ]
  },
  {
   "cell_type": "code",
   "execution_count": 68,
   "metadata": {
    "collapsed": false
   },
   "outputs": [
    {
     "data": {
      "text/plain": [
       "[('The', 'AT'),\n",
       " ('Fulton', 'NP-TL'),\n",
       " ('County', 'NN-TL'),\n",
       " ('Grand', 'JJ-TL'),\n",
       " ('Jury', 'NN-TL'),\n",
       " ('said', 'VBD'),\n",
       " ('Friday', 'NR'),\n",
       " ('an', 'AT'),\n",
       " ('investigation', 'NN'),\n",
       " ('of', 'IN'),\n",
       " (\"Atlanta's\", 'NP$'),\n",
       " ('recent', 'JJ'),\n",
       " ('primary', 'NN'),\n",
       " ('election', 'NN'),\n",
       " ('produced', 'VBD'),\n",
       " ('``', '``'),\n",
       " ('no', 'AT'),\n",
       " ('evidence', 'NN'),\n",
       " (\"''\", \"''\"),\n",
       " ('that', 'CS'),\n",
       " ('any', 'DTI'),\n",
       " ('irregularities', 'NNS'),\n",
       " ('took', 'VBD'),\n",
       " ('place', 'NN'),\n",
       " ('.', '.')]"
      ]
     },
     "execution_count": 68,
     "metadata": {},
     "output_type": "execute_result"
    }
   ],
   "source": [
    "train_set[0]"
   ]
  },
  {
   "cell_type": "code",
   "execution_count": 70,
   "metadata": {
    "collapsed": true
   },
   "outputs": [],
   "source": [
    "brown_tagged_sents = brown.tagged_sents(categories='news')\n",
    "brown_sents = brown.sents(categories='news')\n",
    "size = int(len(brown_tagged_sents) * 0.9)\n",
    "train_sents = brown_tagged_sents[:size]\n",
    "test_sents = brown_tagged_sents[size:]\n",
    "t0 = nltk.DefaultTagger('NN')\n",
    "t1 = nltk.UnigramTagger(train_sents, backoff=t0)\n",
    "t2 = nltk.BigramTagger(train_sents, backoff=t1)"
   ]
  },
  {
   "cell_type": "code",
   "execution_count": 71,
   "metadata": {
    "collapsed": true
   },
   "outputs": [],
   "source": [
    "def tag_list(tagged_sents):\n",
    "    return [tag for sent in tagged_sents for (word, tag) in sent]\n"
   ]
  },
  {
   "cell_type": "code",
   "execution_count": 72,
   "metadata": {
    "collapsed": true
   },
   "outputs": [],
   "source": [
    "def apply_tagger(tagger, corpus):\n",
    "    return [tagger.tag(nltk.tag.untag(sent)) for sent in corpus]\n"
   ]
  },
  {
   "cell_type": "code",
   "execution_count": 73,
   "metadata": {
    "collapsed": false
   },
   "outputs": [],
   "source": [
    "gold = tag_list(brown.tagged_sents(categories='editorial'))\n",
    "test = tag_list(apply_tagger(t2, brown.tagged_sents(categories='editorial')))\n"
   ]
  },
  {
   "cell_type": "code",
   "execution_count": 74,
   "metadata": {
    "collapsed": true
   },
   "outputs": [],
   "source": [
    "cm = nltk.ConfusionMatrix(gold, test)\n"
   ]
  },
  {
   "cell_type": "code",
   "execution_count": 75,
   "metadata": {
    "collapsed": false
   },
   "outputs": [
    {
     "name": "stdout",
     "output_type": "stream",
     "text": [
      "    |                                         N                      |\n",
      "    |      N      I      A      J             N             V      N |\n",
      "    |      N      N      T      J      .      S      ,      B      P |\n",
      "----+----------------------------------------------------------------+\n",
      " NN | <11.8%>  0.0%      .   0.2%      .   0.0%      .   0.3%   0.0% |\n",
      " IN |   0.0%  <9.0%>     .      .      .   0.0%      .      .      . |\n",
      " AT |      .      .  <8.6%>     .      .      .      .      .      . |\n",
      " JJ |   1.6%      .      .  <4.0%>     .      .      .   0.0%   0.0% |\n",
      "  . |      .      .      .      .  <4.8%>     .      .      .      . |\n",
      "NNS |   1.5%      .      .      .      .  <3.3%>     .      .   0.0% |\n",
      "  , |      .      .      .      .      .      .  <4.4%>     .      . |\n",
      " VB |   0.9%      .      .   0.0%      .      .      .  <2.4%>     . |\n",
      " NP |   1.0%      .      .   0.0%      .      .      .      .  <1.9%>|\n",
      "----+----------------------------------------------------------------+\n",
      "(row = reference; col = test)\n",
      "\n"
     ]
    }
   ],
   "source": [
    "print(cm.pretty_format(sort_by_count=True, show_percents=True, truncate=9))"
   ]
  },
  {
   "cell_type": "markdown",
   "metadata": {
    "collapsed": true
   },
   "source": [
    "## 6.4 Decision Trees"
   ]
  },
  {
   "cell_type": "code",
   "execution_count": 76,
   "metadata": {
    "collapsed": true
   },
   "outputs": [],
   "source": [
    "import math\n",
    "def entropy(labels):\n",
    "    freqdist = nltk.FreqDist(labels)\n",
    "    probs = [freqdist.freq(l) for l in freqdist]\n",
    "    return -sum(p * math.log(p,2) for p in probs)"
   ]
  },
  {
   "cell_type": "code",
   "execution_count": 77,
   "metadata": {
    "collapsed": false
   },
   "outputs": [
    {
     "name": "stdout",
     "output_type": "stream",
     "text": [
      "-0.0\n",
      "0.8112781244591328\n",
      "1.0\n",
      "0.8112781244591328\n",
      "-0.0\n"
     ]
    }
   ],
   "source": [
    "print(entropy(['male', 'male', 'male', 'male']))\n",
    "print(entropy(['male', 'female', 'male', 'male']))\n",
    "print(entropy(['female', 'male', 'female', 'male']))\n",
    "print(entropy(['female', 'female', 'male', 'female']))\n",
    "print(entropy(['female', 'female', 'female', 'female'])) "
   ]
  },
  {
   "cell_type": "markdown",
   "metadata": {},
   "source": [
    "## 6.5 Naive Bayes Classifiers"
   ]
  },
  {
   "cell_type": "markdown",
   "metadata": {},
   "source": [
    "# 6.6 Maximum Entropy Classifiers"
   ]
  },
  {
   "cell_type": "markdown",
   "metadata": {},
   "source": [
    "## 6.7 Modeling Linguistic Patterns"
   ]
  },
  {
   "cell_type": "code",
   "execution_count": null,
   "metadata": {
    "collapsed": true
   },
   "outputs": [],
   "source": []
  }
 ],
 "metadata": {
  "anaconda-cloud": {},
  "kernelspec": {
   "display_name": "Python [default]",
   "language": "python",
   "name": "python3"
  },
  "language_info": {
   "codemirror_mode": {
    "name": "ipython",
    "version": 3
   },
   "file_extension": ".py",
   "mimetype": "text/x-python",
   "name": "python",
   "nbconvert_exporter": "python",
   "pygments_lexer": "ipython3",
   "version": "3.5.2"
  }
 },
 "nbformat": 4,
 "nbformat_minor": 1
}
